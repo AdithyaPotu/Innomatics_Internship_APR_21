{
 "cells": [
  {
   "cell_type": "markdown",
   "metadata": {},
   "source": [
    "# Descriptive statistics\n"
   ]
  },
  {
   "cell_type": "code",
   "execution_count": 9,
   "metadata": {},
   "outputs": [],
   "source": [
    "import numpy as np\n",
    "import pandas as pd\n",
    "import matplotlib.pyplot as plt\n",
    "%matplotlib inline\n",
    "import seaborn as sns"
   ]
  },
  {
   "cell_type": "code",
   "execution_count": 10,
   "metadata": {},
   "outputs": [],
   "source": [
    "df = pd.read_csv('F:\\Innomatics_Internship_APR_21\\data.csv')"
   ]
  },
  {
   "cell_type": "code",
   "execution_count": 11,
   "metadata": {},
   "outputs": [
    {
     "data": {
      "text/html": [
       "<div>\n",
       "<style scoped>\n",
       "    .dataframe tbody tr th:only-of-type {\n",
       "        vertical-align: middle;\n",
       "    }\n",
       "\n",
       "    .dataframe tbody tr th {\n",
       "        vertical-align: top;\n",
       "    }\n",
       "\n",
       "    .dataframe thead th {\n",
       "        text-align: right;\n",
       "    }\n",
       "</style>\n",
       "<table border=\"1\" class=\"dataframe\">\n",
       "  <thead>\n",
       "    <tr style=\"text-align: right;\">\n",
       "      <th></th>\n",
       "      <th>Mthly_HH_Income</th>\n",
       "      <th>Mthly_HH_Expense</th>\n",
       "      <th>No_of_Fly_Members</th>\n",
       "      <th>Emi_or_Rent_Amt</th>\n",
       "      <th>Annual_HH_Income</th>\n",
       "      <th>Highest_Qualified_Member</th>\n",
       "      <th>No_of_Earning_Members</th>\n",
       "    </tr>\n",
       "  </thead>\n",
       "  <tbody>\n",
       "    <tr>\n",
       "      <th>0</th>\n",
       "      <td>5000</td>\n",
       "      <td>8000</td>\n",
       "      <td>3</td>\n",
       "      <td>2000</td>\n",
       "      <td>64200</td>\n",
       "      <td>Under-Graduate</td>\n",
       "      <td>1</td>\n",
       "    </tr>\n",
       "    <tr>\n",
       "      <th>1</th>\n",
       "      <td>6000</td>\n",
       "      <td>7000</td>\n",
       "      <td>2</td>\n",
       "      <td>3000</td>\n",
       "      <td>79920</td>\n",
       "      <td>Illiterate</td>\n",
       "      <td>1</td>\n",
       "    </tr>\n",
       "    <tr>\n",
       "      <th>2</th>\n",
       "      <td>10000</td>\n",
       "      <td>4500</td>\n",
       "      <td>2</td>\n",
       "      <td>0</td>\n",
       "      <td>112800</td>\n",
       "      <td>Under-Graduate</td>\n",
       "      <td>1</td>\n",
       "    </tr>\n",
       "    <tr>\n",
       "      <th>3</th>\n",
       "      <td>10000</td>\n",
       "      <td>2000</td>\n",
       "      <td>1</td>\n",
       "      <td>0</td>\n",
       "      <td>97200</td>\n",
       "      <td>Illiterate</td>\n",
       "      <td>1</td>\n",
       "    </tr>\n",
       "    <tr>\n",
       "      <th>4</th>\n",
       "      <td>12500</td>\n",
       "      <td>12000</td>\n",
       "      <td>2</td>\n",
       "      <td>3000</td>\n",
       "      <td>147000</td>\n",
       "      <td>Graduate</td>\n",
       "      <td>1</td>\n",
       "    </tr>\n",
       "  </tbody>\n",
       "</table>\n",
       "</div>"
      ],
      "text/plain": [
       "   Mthly_HH_Income  Mthly_HH_Expense  No_of_Fly_Members  Emi_or_Rent_Amt  \\\n",
       "0             5000              8000                  3             2000   \n",
       "1             6000              7000                  2             3000   \n",
       "2            10000              4500                  2                0   \n",
       "3            10000              2000                  1                0   \n",
       "4            12500             12000                  2             3000   \n",
       "\n",
       "   Annual_HH_Income Highest_Qualified_Member  No_of_Earning_Members  \n",
       "0             64200           Under-Graduate                      1  \n",
       "1             79920               Illiterate                      1  \n",
       "2            112800           Under-Graduate                      1  \n",
       "3             97200               Illiterate                      1  \n",
       "4            147000                 Graduate                      1  "
      ]
     },
     "execution_count": 11,
     "metadata": {},
     "output_type": "execute_result"
    }
   ],
   "source": [
    "df.head()\n"
   ]
  },
  {
   "cell_type": "code",
   "execution_count": 12,
   "metadata": {},
   "outputs": [
    {
     "data": {
      "text/plain": [
       "(50, 7)"
      ]
     },
     "execution_count": 12,
     "metadata": {},
     "output_type": "execute_result"
    }
   ],
   "source": [
    "#checking number of rows and columns\n",
    "df.shape"
   ]
  },
  {
   "cell_type": "code",
   "execution_count": 13,
   "metadata": {},
   "outputs": [
    {
     "data": {
      "text/plain": [
       "Index(['Mthly_HH_Income', 'Mthly_HH_Expense', 'No_of_Fly_Members',\n",
       "       'Emi_or_Rent_Amt', 'Annual_HH_Income', 'Highest_Qualified_Member',\n",
       "       'No_of_Earning_Members'],\n",
       "      dtype='object')"
      ]
     },
     "execution_count": 13,
     "metadata": {},
     "output_type": "execute_result"
    }
   ],
   "source": [
    "df.columns\n"
   ]
  },
  {
   "cell_type": "code",
   "execution_count": 14,
   "metadata": {},
   "outputs": [
    {
     "data": {
      "text/html": [
       "<div>\n",
       "<style scoped>\n",
       "    .dataframe tbody tr th:only-of-type {\n",
       "        vertical-align: middle;\n",
       "    }\n",
       "\n",
       "    .dataframe tbody tr th {\n",
       "        vertical-align: top;\n",
       "    }\n",
       "\n",
       "    .dataframe thead th {\n",
       "        text-align: right;\n",
       "    }\n",
       "</style>\n",
       "<table border=\"1\" class=\"dataframe\">\n",
       "  <thead>\n",
       "    <tr style=\"text-align: right;\">\n",
       "      <th></th>\n",
       "      <th>Mthly_HH_Income</th>\n",
       "      <th>Mthly_HH_Expense</th>\n",
       "      <th>No_of_Fly_Members</th>\n",
       "      <th>Emi_or_Rent_Amt</th>\n",
       "      <th>Annual_HH_Income</th>\n",
       "      <th>Highest_Qualified_Member</th>\n",
       "      <th>No_of_Earning_Members</th>\n",
       "    </tr>\n",
       "  </thead>\n",
       "  <tbody>\n",
       "    <tr>\n",
       "      <th>count</th>\n",
       "      <td>50.000000</td>\n",
       "      <td>50.000000</td>\n",
       "      <td>50.000000</td>\n",
       "      <td>50.000000</td>\n",
       "      <td>5.000000e+01</td>\n",
       "      <td>50</td>\n",
       "      <td>50.000000</td>\n",
       "    </tr>\n",
       "    <tr>\n",
       "      <th>unique</th>\n",
       "      <td>NaN</td>\n",
       "      <td>NaN</td>\n",
       "      <td>NaN</td>\n",
       "      <td>NaN</td>\n",
       "      <td>NaN</td>\n",
       "      <td>5</td>\n",
       "      <td>NaN</td>\n",
       "    </tr>\n",
       "    <tr>\n",
       "      <th>top</th>\n",
       "      <td>NaN</td>\n",
       "      <td>NaN</td>\n",
       "      <td>NaN</td>\n",
       "      <td>NaN</td>\n",
       "      <td>NaN</td>\n",
       "      <td>Graduate</td>\n",
       "      <td>NaN</td>\n",
       "    </tr>\n",
       "    <tr>\n",
       "      <th>freq</th>\n",
       "      <td>NaN</td>\n",
       "      <td>NaN</td>\n",
       "      <td>NaN</td>\n",
       "      <td>NaN</td>\n",
       "      <td>NaN</td>\n",
       "      <td>19</td>\n",
       "      <td>NaN</td>\n",
       "    </tr>\n",
       "    <tr>\n",
       "      <th>mean</th>\n",
       "      <td>41558.000000</td>\n",
       "      <td>18818.000000</td>\n",
       "      <td>4.060000</td>\n",
       "      <td>3060.000000</td>\n",
       "      <td>4.900190e+05</td>\n",
       "      <td>NaN</td>\n",
       "      <td>1.460000</td>\n",
       "    </tr>\n",
       "    <tr>\n",
       "      <th>std</th>\n",
       "      <td>26097.908979</td>\n",
       "      <td>12090.216824</td>\n",
       "      <td>1.517382</td>\n",
       "      <td>6241.434948</td>\n",
       "      <td>3.201358e+05</td>\n",
       "      <td>NaN</td>\n",
       "      <td>0.734291</td>\n",
       "    </tr>\n",
       "    <tr>\n",
       "      <th>min</th>\n",
       "      <td>5000.000000</td>\n",
       "      <td>2000.000000</td>\n",
       "      <td>1.000000</td>\n",
       "      <td>0.000000</td>\n",
       "      <td>6.420000e+04</td>\n",
       "      <td>NaN</td>\n",
       "      <td>1.000000</td>\n",
       "    </tr>\n",
       "    <tr>\n",
       "      <th>25%</th>\n",
       "      <td>23550.000000</td>\n",
       "      <td>10000.000000</td>\n",
       "      <td>3.000000</td>\n",
       "      <td>0.000000</td>\n",
       "      <td>2.587500e+05</td>\n",
       "      <td>NaN</td>\n",
       "      <td>1.000000</td>\n",
       "    </tr>\n",
       "    <tr>\n",
       "      <th>50%</th>\n",
       "      <td>35000.000000</td>\n",
       "      <td>15500.000000</td>\n",
       "      <td>4.000000</td>\n",
       "      <td>0.000000</td>\n",
       "      <td>4.474200e+05</td>\n",
       "      <td>NaN</td>\n",
       "      <td>1.000000</td>\n",
       "    </tr>\n",
       "    <tr>\n",
       "      <th>75%</th>\n",
       "      <td>50375.000000</td>\n",
       "      <td>25000.000000</td>\n",
       "      <td>5.000000</td>\n",
       "      <td>3500.000000</td>\n",
       "      <td>5.947200e+05</td>\n",
       "      <td>NaN</td>\n",
       "      <td>2.000000</td>\n",
       "    </tr>\n",
       "    <tr>\n",
       "      <th>max</th>\n",
       "      <td>100000.000000</td>\n",
       "      <td>50000.000000</td>\n",
       "      <td>7.000000</td>\n",
       "      <td>35000.000000</td>\n",
       "      <td>1.404000e+06</td>\n",
       "      <td>NaN</td>\n",
       "      <td>4.000000</td>\n",
       "    </tr>\n",
       "  </tbody>\n",
       "</table>\n",
       "</div>"
      ],
      "text/plain": [
       "        Mthly_HH_Income  Mthly_HH_Expense  No_of_Fly_Members  Emi_or_Rent_Amt  \\\n",
       "count         50.000000         50.000000          50.000000        50.000000   \n",
       "unique              NaN               NaN                NaN              NaN   \n",
       "top                 NaN               NaN                NaN              NaN   \n",
       "freq                NaN               NaN                NaN              NaN   \n",
       "mean       41558.000000      18818.000000           4.060000      3060.000000   \n",
       "std        26097.908979      12090.216824           1.517382      6241.434948   \n",
       "min         5000.000000       2000.000000           1.000000         0.000000   \n",
       "25%        23550.000000      10000.000000           3.000000         0.000000   \n",
       "50%        35000.000000      15500.000000           4.000000         0.000000   \n",
       "75%        50375.000000      25000.000000           5.000000      3500.000000   \n",
       "max       100000.000000      50000.000000           7.000000     35000.000000   \n",
       "\n",
       "        Annual_HH_Income Highest_Qualified_Member  No_of_Earning_Members  \n",
       "count       5.000000e+01                       50              50.000000  \n",
       "unique               NaN                        5                    NaN  \n",
       "top                  NaN                 Graduate                    NaN  \n",
       "freq                 NaN                       19                    NaN  \n",
       "mean        4.900190e+05                      NaN               1.460000  \n",
       "std         3.201358e+05                      NaN               0.734291  \n",
       "min         6.420000e+04                      NaN               1.000000  \n",
       "25%         2.587500e+05                      NaN               1.000000  \n",
       "50%         4.474200e+05                      NaN               1.000000  \n",
       "75%         5.947200e+05                      NaN               2.000000  \n",
       "max         1.404000e+06                      NaN               4.000000  "
      ]
     },
     "execution_count": 14,
     "metadata": {},
     "output_type": "execute_result"
    }
   ],
   "source": [
    "df.describe(include=\"all\")"
   ]
  },
  {
   "cell_type": "markdown",
   "metadata": {},
   "source": [
    "# 1. Let's have a look on significace of the Mean\n",
    "Mean is the one of the Measure of central tendency it can be calculated by adding the sum of all data points to the given number of data points.\n",
    "\n",
    "Mean is the most common measure of central tendency but it has a huge downside because it is easily effected by outliers where value is significantly greater than other values in the data set.\n",
    "\n",
    "Following is the formula used for calculating the Mean "
   ]
  },
  {
   "cell_type": "markdown",
   "metadata": {},
   "source": [
    "$Exi$/N"
   ]
  },
  {
   "cell_type": "markdown",
   "metadata": {},
   "source": [
    "# Calculating the Mean without using library function"
   ]
  },
  {
   "cell_type": "code",
   "execution_count": 15,
   "metadata": {},
   "outputs": [
    {
     "name": "stdout",
     "output_type": "stream",
     "text": [
      "Mean of the given data is: 27.5\n"
     ]
    }
   ],
   "source": [
    "# lets create some temporary data to find mean\n",
    "\n",
    "num = [10,15,20,30,40,50]\n",
    "n = len(num)\n",
    "  \n",
    "gsum = sum(num)\n",
    "mean = gsum / n\n",
    "  \n",
    "print(\"Mean of the given data is: \" + str(mean))"
   ]
  },
  {
   "cell_type": "markdown",
   "metadata": {},
   "source": [
    "Lets calculate the Mean from given data"
   ]
  },
  {
   "cell_type": "markdown",
   "metadata": {},
   "source": [
    "# calculating mean from given data"
   ]
  },
  {
   "cell_type": "code",
   "execution_count": 16,
   "metadata": {},
   "outputs": [
    {
     "data": {
      "text/plain": [
       "Mthly_HH_Income           41558.00\n",
       "Mthly_HH_Expense          18818.00\n",
       "No_of_Fly_Members             4.06\n",
       "Emi_or_Rent_Amt            3060.00\n",
       "Annual_HH_Income         490019.04\n",
       "No_of_Earning_Members         1.46\n",
       "dtype: float64"
      ]
     },
     "execution_count": 16,
     "metadata": {},
     "output_type": "execute_result"
    }
   ],
   "source": [
    "df.mean()"
   ]
  },
  {
   "cell_type": "markdown",
   "metadata": {},
   "source": [
    "# 2. Let us have a look on Median and its significance\n",
    "Median is the middle value of a sorted data set; found by ordering all data points and picking out the one in the middle (or if there are two middle numbers, taking the mean of those two numbers).\n",
    "The median is sometimes used as opposed to the mean when there are outliers in the sequence that might skew the average of the values. The median of a sequence can be less affected by outliers than the mean.¶\n",
    "To caluculate the Median from the given data we use following formula\n",
    "$$Mm = l + \\frac{\\frac{1}{2}- cf}{f} \\cdot h$$"
   ]
  },
  {
   "cell_type": "markdown",
   "metadata": {},
   "source": [
    "Let's Calculate the median from given data using inbuilt median function"
   ]
  },
  {
   "cell_type": "code",
   "execution_count": 17,
   "metadata": {},
   "outputs": [
    {
     "data": {
      "text/plain": [
       "Mthly_HH_Income           35000.0\n",
       "Mthly_HH_Expense          15500.0\n",
       "No_of_Fly_Members             4.0\n",
       "Emi_or_Rent_Amt               0.0\n",
       "Annual_HH_Income         447420.0\n",
       "No_of_Earning_Members         1.0\n",
       "dtype: float64"
      ]
     },
     "execution_count": 17,
     "metadata": {},
     "output_type": "execute_result"
    }
   ],
   "source": [
    "# Calculating the median in the given dataset\n",
    "\n",
    "df.median()"
   ]
  },
  {
   "cell_type": "markdown",
   "metadata": {},
   "source": [
    "let's calculate median without using inbuilt function with a example"
   ]
  },
  {
   "cell_type": "code",
   "execution_count": 18,
   "metadata": {},
   "outputs": [
    {
     "name": "stdout",
     "output_type": "stream",
     "text": [
      "Median is: 3\n"
     ]
    }
   ],
   "source": [
    "# list of elements to calculate median\n",
    "n_num = [1, 2, 3, 4, 5]\n",
    "n = len(n_num)\n",
    "n_num.sort()\n",
    "  \n",
    "if n % 2 == 0:\n",
    "    median1 = n_num[n//2]\n",
    "    median2 = n_num[n//2 - 1]\n",
    "    median = (median1 + median2)/2\n",
    "else:\n",
    "    median = n_num[n//2]\n",
    "print(\"Median is: \" + str(median))"
   ]
  },
  {
   "cell_type": "markdown",
   "metadata": {},
   "source": [
    "# 3. Lets have a look on Mode and its functionality with a example\n",
    "The mode is the number that occurs most often within a set of numbers in the data, A set of data may have one mode, more than one mode, or no mode at all.\n",
    "Mode is most useful as a measure of central tendency when examining categorical data, such as models of cars or flavors of soda, for which a mathematical average median value based on ordering can not be calculated.¶"
   ]
  },
  {
   "attachments": {
    "download.png": {
     "image/png": "[encoded data removed]"
    }
   },
   "cell_type": "markdown",
   "metadata": {},
   "source": [
    "![download.png](attachment:download.png)"
   ]
  },
  {
   "cell_type": "markdown",
   "metadata": {},
   "source": [
    "Lets calculate the mode from the given data using inbuilt function"
   ]
  },
  {
   "cell_type": "code",
   "execution_count": 21,
   "metadata": {},
   "outputs": [
    {
     "data": {
      "text/html": [
       "<div>\n",
       "<style scoped>\n",
       "    .dataframe tbody tr th:only-of-type {\n",
       "        vertical-align: middle;\n",
       "    }\n",
       "\n",
       "    .dataframe tbody tr th {\n",
       "        vertical-align: top;\n",
       "    }\n",
       "\n",
       "    .dataframe thead th {\n",
       "        text-align: right;\n",
       "    }\n",
       "</style>\n",
       "<table border=\"1\" class=\"dataframe\">\n",
       "  <thead>\n",
       "    <tr style=\"text-align: right;\">\n",
       "      <th></th>\n",
       "      <th>Mthly_HH_Income</th>\n",
       "      <th>Mthly_HH_Expense</th>\n",
       "      <th>No_of_Fly_Members</th>\n",
       "      <th>Emi_or_Rent_Amt</th>\n",
       "      <th>Annual_HH_Income</th>\n",
       "      <th>Highest_Qualified_Member</th>\n",
       "      <th>No_of_Earning_Members</th>\n",
       "    </tr>\n",
       "  </thead>\n",
       "  <tbody>\n",
       "    <tr>\n",
       "      <th>0</th>\n",
       "      <td>45000</td>\n",
       "      <td>25000</td>\n",
       "      <td>4</td>\n",
       "      <td>0</td>\n",
       "      <td>590400</td>\n",
       "      <td>Graduate</td>\n",
       "      <td>1</td>\n",
       "    </tr>\n",
       "  </tbody>\n",
       "</table>\n",
       "</div>"
      ],
      "text/plain": [
       "   Mthly_HH_Income  Mthly_HH_Expense  No_of_Fly_Members  Emi_or_Rent_Amt  \\\n",
       "0            45000             25000                  4                0   \n",
       "\n",
       "   Annual_HH_Income Highest_Qualified_Member  No_of_Earning_Members  \n",
       "0            590400                 Graduate                      1  "
      ]
     },
     "execution_count": 21,
     "metadata": {},
     "output_type": "execute_result"
    }
   ],
   "source": [
    "df.mode()"
   ]
  },
  {
   "cell_type": "markdown",
   "metadata": {},
   "source": [
    "Lets calculate the mode without using the inbuilt function with a example"
   ]
  },
  {
   "cell_type": "code",
   "execution_count": 23,
   "metadata": {},
   "outputs": [
    {
     "name": "stdout",
     "output_type": "stream",
     "text": [
      "the mode from n_num is : 5\n"
     ]
    }
   ],
   "source": [
    "from collections import Counter\n",
    "  \n",
    "# list of elements to calculate mode\n",
    "n_num = [1, 2, 3, 4, 5, 5]\n",
    "n = len(n_num)\n",
    "  \n",
    "data = Counter(n_num)\n",
    "get_mode = dict(data)\n",
    "mode = [k for k, v in get_mode.items() if v == max(list(data.values()))]\n",
    "  \n",
    "if len(mode) == n:\n",
    "    get_mode = \"No mode found\"\n",
    "else:\n",
    "    get_mode = \"the mode from n_num is : \" + ', '.join(map(str, mode))\n",
    "      \n",
    "print(get_mode)"
   ]
  },
  {
   "cell_type": "markdown",
   "metadata": {},
   "source": [
    "# 4. Let us discuss about the Variance and its functioning\n",
    "The term Variance refers to a statistical measurement of the spread between numbers in a data set. More specifically, variance measures how far each number in the set is from the mean and thus from every other number in the set. Variance is often depicted by this symbol: $\\sigma^2$\n",
    "In statistics, variance measures variability from the average or mean. It is calculated by taking the differences between each number in the data set and the mean, then squaring the differences to make them positive, and finally dividing the sum of the squares by the number of values in the data set.\n",
    "Let's have a look on formula of Variance\n",
    "$$\\sigma^2 = \\frac{\\sum_{i=1}^{n}(x_i - \\mu)^2} {n}$$"
   ]
  },
  {
   "cell_type": "markdown",
   "metadata": {},
   "source": [
    "<svg xmlns=\"http://www.w3.org/2000/svg\" xmlns:xlink=\"http://www.w3.org/1999/xlink\" width=\"93.117979pt\" height=\"21.955572pt\" viewBox=\"0 0 93.117979 21.955572\" version=\"1.1\">\n",
    "<defs>\n",
    "<g>\n",
    "<symbol overflow=\"visible\" id=\"glyph0-0\">\n",
    "<path style=\"stroke:none;\" d=\"M 6.375 -5.140625 L 4.046875 -5.140625 C 1.78125 -5.140625 0.328125 -3.1875 0.328125 -1.5625 C 0.328125 -0.515625 0.953125 0.125 2.078125 0.125 C 3.75 0.125 5.265625 -1.28125 5.265625 -2.609375 C 5.265625 -3.5 4.59375 -3.484375 4.109375 -4.25 L 6.15625 -4.25 Z M 4.265625 -2.65625 C 4.265625 -1.6875 3.421875 -0.125 2.265625 -0.125 C 1.703125 -0.125 1.328125 -0.484375 1.328125 -1.203125 C 1.328125 -2.890625 2.734375 -4.25 3.5625 -4.25 C 3.953125 -4.015625 4.265625 -3.421875 4.265625 -2.65625 Z M 4.265625 -2.65625 \"/>\n",
    "</symbol>\n",
    "<symbol overflow=\"visible\" id=\"glyph1-0\">\n",
    "<path style=\"stroke:none;\" d=\"M 4.03125 -1.171875 L 3.921875 -1.21875 C 3.640625 -0.734375 3.453125 -0.640625 3.09375 -0.640625 L 1.109375 -0.640625 L 2.515625 -2.140625 C 3.265625 -2.953125 3.609375 -3.578125 3.609375 -4.25 C 3.609375 -5.09375 2.984375 -5.75 2.03125 -5.75 C 0.984375 -5.75 0.4375 -5.0625 0.25 -4.0625 L 0.4375 -4.015625 C 0.78125 -4.859375 1.078125 -5.125 1.6875 -5.125 C 2.40625 -5.125 2.875 -4.703125 2.875 -3.921875 C 2.875 -3.203125 2.5625 -2.546875 1.765625 -1.71875 L 0.25 -0.109375 L 0.25 0 L 3.578125 0 Z M 4.03125 -1.171875 \"/>\n",
    "</symbol>\n",
    "<symbol overflow=\"visible\" id=\"glyph1-1\">\n",
    "<path style=\"stroke:none;\" d=\"M 5.28125 -1.875 L 5.28125 -2.4375 L 0.546875 -2.4375 L 0.546875 -1.875 Z M 5.28125 -1.875 \"/>\n",
    "</symbol>\n",
    "<symbol overflow=\"visible\" id=\"glyph2-0\">\n",
    "<path style=\"stroke:none;\" d=\"M 7.640625 -3.84375 L 7.640625 -4.625 L 0.578125 -4.625 L 0.578125 -3.84375 Z M 7.640625 -1.4375 L 7.640625 -2.234375 L 0.578125 -2.234375 L 0.578125 -1.4375 Z M 7.640625 -1.4375 \"/>\n",
    "</symbol>\n",
    "<symbol overflow=\"visible\" id=\"glyph3-0\">\n",
    "<path style=\"stroke:none;\" d=\"M 0.390625 8.515625 C 0.359375 8.515625 0.34375 8.488281 0.34375 8.4375 C 0.34375 8.425781 0.347656 8.414062 0.359375 8.40625 L 3.546875 4.65625 L 0.359375 0.265625 C 0.347656 0.253906 0.34375 0.242188 0.34375 0.234375 L 0.34375 0.046875 C 0.34375 0.0351562 0.347656 0.0234375 0.359375 0.015625 C 0.367188 0.00390625 0.378906 0 0.390625 0 L 7.640625 0 L 8.359375 1.703125 L 8.1875 1.703125 C 8 1.273438 7.6875 0.957031 7.25 0.75 C 6.8125 0.539062 6.351562 0.410156 5.875 0.359375 C 5.40625 0.316406 4.851562 0.296875 4.21875 0.296875 L 1.4375 0.296875 L 4.28125 4.21875 C 4.289062 4.226562 4.296875 4.238281 4.296875 4.25 C 4.296875 4.269531 4.289062 4.285156 4.28125 4.296875 L 1.15625 7.96875 L 4.28125 7.96875 C 4.894531 7.96875 5.441406 7.941406 5.921875 7.890625 C 6.398438 7.847656 6.851562 7.722656 7.28125 7.515625 C 7.71875 7.304688 8.019531 6.984375 8.1875 6.546875 L 8.359375 6.546875 L 7.640625 8.515625 Z M 0.390625 8.515625 \"/>\n",
    "</symbol>\n",
    "<symbol overflow=\"visible\" id=\"glyph4-0\">\n",
    "<path style=\"stroke:none;\" d=\"M 2.109375 -4.796875 C 2.109375 -5.03125 1.921875 -5.234375 1.71875 -5.234375 C 1.5 -5.234375 1.34375 -5.0625 1.34375 -4.8125 C 1.34375 -4.546875 1.484375 -4.390625 1.71875 -4.390625 C 1.921875 -4.390625 2.109375 -4.5625 2.109375 -4.796875 Z M 1.78125 -0.90625 C 1.4375 -0.453125 1.234375 -0.28125 1.109375 -0.28125 C 1.046875 -0.28125 0.984375 -0.328125 0.984375 -0.40625 C 0.984375 -0.515625 1.03125 -0.625 1.078125 -0.765625 L 1.828125 -3.5 L 1.796875 -3.53125 C 0.984375 -3.375 0.828125 -3.359375 0.515625 -3.328125 L 0.515625 -3.203125 C 0.9375 -3.1875 1.03125 -3.171875 1.03125 -3.015625 C 1.03125 -2.9375 0.984375 -2.796875 0.953125 -2.65625 L 0.5625 -1.234375 C 0.453125 -0.796875 0.390625 -0.515625 0.390625 -0.359375 C 0.390625 -0.0625 0.515625 0.09375 0.78125 0.09375 C 1.1875 0.09375 1.4375 -0.15625 1.875 -0.828125 Z M 1.78125 -0.90625 \"/>\n",
    "</symbol>\n",
    "<symbol overflow=\"visible\" id=\"glyph4-1\">\n",
    "<path style=\"stroke:none;\" d=\"M 3.6875 -0.9375 C 3.625 -0.859375 3.5625 -0.796875 3.515625 -0.734375 C 3.28125 -0.4375 3.140625 -0.296875 3.03125 -0.296875 C 2.921875 -0.296875 2.890625 -0.375 2.890625 -0.453125 C 2.890625 -0.515625 2.921875 -0.640625 3.015625 -0.9375 L 3.453125 -2.5625 C 3.5 -2.734375 3.53125 -2.890625 3.53125 -3.046875 C 3.53125 -3.328125 3.359375 -3.53125 3.015625 -3.53125 C 2.5 -3.53125 1.96875 -3.046875 1.171875 -1.765625 L 1.703125 -3.515625 L 1.671875 -3.53125 C 1.25 -3.4375 1.03125 -3.40625 0.375 -3.28125 L 0.375 -3.15625 C 0.78125 -3.140625 0.890625 -3.09375 0.890625 -2.9375 C 0.890625 -2.890625 0.890625 -2.84375 0.875 -2.796875 L 0.109375 0 L 0.71875 0 C 1.09375 -1.265625 1.15625 -1.453125 1.515625 -1.984375 C 2.015625 -2.734375 2.375 -3.125 2.703125 -3.125 C 2.8125 -3.125 2.890625 -3.03125 2.890625 -2.890625 C 2.890625 -2.796875 2.84375 -2.5 2.78125 -2.25 L 2.421875 -0.953125 C 2.3125 -0.546875 2.296875 -0.4375 2.296875 -0.359375 C 2.296875 -0.0625 2.46875 0.078125 2.671875 0.078125 C 3.046875 0.078125 3.25 -0.09375 3.796875 -0.828125 Z M 3.6875 -0.9375 \"/>\n",
    "</symbol>\n",
    "<symbol overflow=\"visible\" id=\"glyph5-0\">\n",
    "<path style=\"stroke:none;\" d=\"M 5.09375 -2.5625 L 5.09375 -3.09375 L 0.390625 -3.09375 L 0.390625 -2.5625 Z M 5.09375 -0.953125 L 5.09375 -1.484375 L 0.390625 -1.484375 L 0.390625 -0.953125 Z M 5.09375 -0.953125 \"/>\n",
    "</symbol>\n",
    "<symbol overflow=\"visible\" id=\"glyph5-1\">\n",
    "<path style=\"stroke:none;\" d=\"M 3.15625 0 L 3.15625 -0.125 C 2.546875 -0.125 2.390625 -0.265625 2.390625 -0.609375 L 2.390625 -5.390625 L 2.3125 -5.40625 L 0.890625 -4.6875 L 0.890625 -4.5625 L 1.109375 -4.640625 C 1.25 -4.703125 1.390625 -4.75 1.46875 -4.75 C 1.625 -4.75 1.703125 -4.625 1.703125 -4.359375 L 1.703125 -0.765625 C 1.703125 -0.3125 1.53125 -0.15625 0.9375 -0.125 L 0.9375 0 Z M 3.15625 0 \"/>\n",
    "</symbol>\n",
    "<symbol overflow=\"visible\" id=\"glyph5-2\">\n",
    "<path style=\"stroke:none;\" d=\"M 3.796875 -1.09375 L 3.6875 -1.140625 C 3.421875 -0.703125 3.25 -0.609375 2.90625 -0.609375 L 1.046875 -0.609375 L 2.359375 -2.015625 C 3.078125 -2.765625 3.390625 -3.375 3.390625 -4 C 3.390625 -4.796875 2.8125 -5.40625 1.90625 -5.40625 C 0.921875 -5.40625 0.40625 -4.75 0.234375 -3.8125 L 0.40625 -3.78125 C 0.734375 -4.5625 1.015625 -4.8125 1.578125 -4.8125 C 2.265625 -4.8125 2.703125 -4.421875 2.703125 -3.6875 C 2.703125 -3.015625 2.40625 -2.40625 1.65625 -1.609375 L 0.234375 -0.09375 L 0.234375 0 L 3.359375 0 Z M 3.796875 -1.09375 \"/>\n",
    "</symbol>\n",
    "<symbol overflow=\"visible\" id=\"glyph6-0\">\n",
    "<path style=\"stroke:none;\" d=\"M 2.96875 8.203125 C 2.34375 7.710938 1.882812 7.09375 1.59375 6.34375 C 1.300781 5.601562 1.15625 4.8125 1.15625 3.96875 C 1.15625 3.125 1.300781 2.328125 1.59375 1.578125 C 1.882812 0.828125 2.34375 0.210938 2.96875 -0.265625 C 2.96875 -0.273438 2.976562 -0.28125 3 -0.28125 L 3.09375 -0.28125 C 3.101562 -0.28125 3.113281 -0.269531 3.125 -0.25 C 3.144531 -0.238281 3.15625 -0.226562 3.15625 -0.21875 C 3.15625 -0.195312 3.148438 -0.179688 3.140625 -0.171875 C 2.867188 0.0859375 2.640625 0.378906 2.453125 0.703125 C 2.265625 1.035156 2.113281 1.375 2 1.71875 C 1.894531 2.070312 1.816406 2.4375 1.765625 2.8125 C 1.722656 3.195312 1.703125 3.585938 1.703125 3.984375 C 1.703125 5.816406 2.179688 7.191406 3.140625 8.109375 C 3.148438 8.117188 3.15625 8.132812 3.15625 8.15625 C 3.15625 8.164062 3.144531 8.175781 3.125 8.1875 C 3.113281 8.207031 3.101562 8.21875 3.09375 8.21875 L 3 8.21875 C 2.976562 8.21875 2.96875 8.210938 2.96875 8.203125 Z M 2.96875 8.203125 \"/>\n",
    "</symbol>\n",
    "<symbol overflow=\"visible\" id=\"glyph6-1\">\n",
    "<path style=\"stroke:none;\" d=\"M 0.375 8.21875 C 0.332031 8.21875 0.3125 8.195312 0.3125 8.15625 C 0.3125 8.132812 0.316406 8.117188 0.328125 8.109375 C 0.691406 7.753906 0.976562 7.351562 1.1875 6.90625 C 1.394531 6.457031 1.539062 5.988281 1.625 5.5 C 1.707031 5.007812 1.75 4.5 1.75 3.96875 C 1.75 2.125 1.273438 0.742188 0.328125 -0.171875 C 0.316406 -0.179688 0.3125 -0.195312 0.3125 -0.21875 C 0.3125 -0.257812 0.332031 -0.28125 0.375 -0.28125 L 0.46875 -0.28125 C 0.476562 -0.28125 0.488281 -0.273438 0.5 -0.265625 C 1.125 0.210938 1.582031 0.828125 1.875 1.578125 C 2.164062 2.328125 2.3125 3.125 2.3125 3.96875 C 2.3125 4.8125 2.164062 5.601562 1.875 6.34375 C 1.582031 7.09375 1.125 7.710938 0.5 8.203125 C 0.488281 8.210938 0.476562 8.21875 0.46875 8.21875 Z M 0.375 8.21875 \"/>\n",
    "</symbol>\n",
    "<symbol overflow=\"visible\" id=\"glyph7-0\">\n",
    "<path style=\"stroke:none;\" d=\"M 2.0625 -3.015625 C 1.953125 -3.609375 1.84375 -3.75 1.640625 -3.75 C 1.4375 -3.75 1.15625 -3.703125 0.640625 -3.515625 L 0.546875 -3.46875 L 0.578125 -3.34375 L 0.71875 -3.375 C 0.890625 -3.421875 0.984375 -3.4375 1.0625 -3.4375 C 1.265625 -3.4375 1.328125 -3.375 1.453125 -2.859375 L 1.6875 -1.8125 L 0.984375 -0.8125 C 0.8125 -0.5625 0.640625 -0.40625 0.546875 -0.40625 C 0.5 -0.40625 0.421875 -0.421875 0.328125 -0.484375 C 0.21875 -0.53125 0.140625 -0.578125 0.0625 -0.578125 C -0.109375 -0.578125 -0.234375 -0.4375 -0.234375 -0.265625 C -0.234375 -0.046875 -0.0625 0.09375 0.203125 0.09375 C 0.453125 0.09375 0.625 0.015625 1 -0.484375 L 1.75 -1.5 L 2 -0.484375 C 2.109375 -0.0625 2.234375 0.09375 2.5 0.09375 C 2.828125 0.09375 3.046875 -0.109375 3.546875 -0.875 L 3.421875 -0.953125 C 3.34375 -0.875 3.3125 -0.8125 3.234375 -0.71875 C 3.046875 -0.453125 2.953125 -0.375 2.828125 -0.375 C 2.71875 -0.375 2.640625 -0.484375 2.578125 -0.71875 L 2.3125 -1.859375 C 2.25 -2.0625 2.234375 -2.1875 2.234375 -2.25 C 2.609375 -2.90625 2.921875 -3.28125 3.078125 -3.28125 C 3.28125 -3.28125 3.359375 -3.140625 3.515625 -3.140625 C 3.6875 -3.140625 3.8125 -3.265625 3.8125 -3.4375 C 3.8125 -3.625 3.65625 -3.75 3.453125 -3.75 C 3.078125 -3.75 2.765625 -3.453125 2.171875 -2.53125 Z M 2.0625 -3.015625 \"/>\n",
    "</symbol>\n",
    "<symbol overflow=\"visible\" id=\"glyph7-1\">\n",
    "<path style=\"stroke:none;\" d=\"M 4 -1 C 3.546875 -0.421875 3.421875 -0.3125 3.28125 -0.3125 C 3.234375 -0.3125 3.1875 -0.359375 3.1875 -0.4375 C 3.1875 -0.515625 3.328125 -0.953125 3.359375 -1.09375 L 4.03125 -3.640625 L 3.375 -3.640625 L 3.09375 -2.609375 C 2.953125 -2.0625 2.015625 -0.46875 1.515625 -0.46875 C 1.28125 -0.46875 1.171875 -0.640625 1.171875 -0.875 C 1.171875 -0.953125 1.1875 -1.03125 1.203125 -1.109375 L 1.84375 -3.640625 L 1.203125 -3.640625 L 0.09375 0.796875 C -0.046875 1.328125 -0.15625 1.578125 -0.28125 1.75 L 0.328125 1.75 C 0.515625 1.53125 0.5625 1.109375 0.890625 -0.15625 C 0.9375 -0.015625 1.03125 0.078125 1.203125 0.078125 C 1.71875 0.078125 2.1875 -0.5 2.921875 -1.828125 L 2.9375 -1.828125 L 2.65625 -0.9375 C 2.59375 -0.734375 2.53125 -0.4375 2.53125 -0.296875 C 2.53125 -0.046875 2.703125 0.09375 2.953125 0.09375 C 3.328125 0.09375 3.578125 -0.109375 4.109375 -0.921875 Z M 4 -1 \"/>\n",
    "</symbol>\n",
    "<symbol overflow=\"visible\" id=\"glyph7-2\">\n",
    "<path style=\"stroke:none;\" d=\"M 3.921875 -1 C 3.859375 -0.921875 3.796875 -0.84375 3.734375 -0.78125 C 3.484375 -0.453125 3.34375 -0.328125 3.21875 -0.328125 C 3.109375 -0.328125 3.078125 -0.40625 3.078125 -0.484375 C 3.078125 -0.546875 3.109375 -0.6875 3.203125 -1 L 3.671875 -2.71875 C 3.734375 -2.90625 3.765625 -3.078125 3.765625 -3.234375 C 3.765625 -3.546875 3.578125 -3.75 3.203125 -3.75 C 2.671875 -3.75 2.09375 -3.25 1.25 -1.875 L 1.8125 -3.734375 L 1.78125 -3.75 C 1.328125 -3.65625 1.09375 -3.625 0.40625 -3.484375 L 0.40625 -3.359375 C 0.828125 -3.34375 0.953125 -3.296875 0.953125 -3.125 C 0.953125 -3.078125 0.9375 -3.015625 0.9375 -2.984375 L 0.125 0 L 0.765625 0 C 1.15625 -1.34375 1.21875 -1.546875 1.609375 -2.109375 C 2.140625 -2.90625 2.53125 -3.328125 2.875 -3.328125 C 3 -3.328125 3.078125 -3.234375 3.078125 -3.078125 C 3.078125 -2.96875 3.015625 -2.671875 2.953125 -2.40625 L 2.578125 -1.015625 C 2.46875 -0.578125 2.4375 -0.46875 2.4375 -0.390625 C 2.4375 -0.0625 2.625 0.078125 2.84375 0.078125 C 3.25 0.078125 3.453125 -0.09375 4.03125 -0.890625 Z M 3.921875 -1 \"/>\n",
    "</symbol>\n",
    "</g>\n",
    "</defs>\n",
    "<g id=\"surface1\">\n",
    "<g style=\"fill:rgb(0%,0%,0%);fill-opacity:1;\">\n",
    "  <use xlink:href=\"#glyph0-0\" x=\"0.339844\" y=\"17.171875\"/>\n",
    "</g>\n",
    "<g style=\"fill:rgb(0%,0%,0%);fill-opacity:1;\">\n",
    "  <use xlink:href=\"#glyph1-0\" x=\"7.605469\" y=\"14.132812\"/>\n",
    "</g>\n",
    "<g style=\"fill:rgb(0%,0%,0%);fill-opacity:1;\">\n",
    "  <use xlink:href=\"#glyph2-0\" x=\"15.53125\" y=\"17.171875\"/>\n",
    "</g>\n",
    "<path style=\"fill:none;stroke-width:1.2;stroke-linecap:butt;stroke-linejoin:miter;stroke:rgb(0%,0%,0%);stroke-opacity:1;stroke-miterlimit:10;\" d=\"M 28.503906 -3.037865 L 91.785156 -3.037865 \" transform=\"matrix(1,0,0,1,0,17.170677)\"/>\n",
    "<g style=\"fill:rgb(0%,0%,0%);fill-opacity:1;\">\n",
    "  <use xlink:href=\"#glyph3-0\" x=\"28.632812\" y=\"2.369838\"/>\n",
    "</g>\n",
    "<g style=\"fill:rgb(0%,0%,0%);fill-opacity:1;\">\n",
    "  <use xlink:href=\"#glyph4-0\" x=\"37.519531\" y=\"12.104492\"/>\n",
    "</g>\n",
    "<g style=\"fill:rgb(0%,0%,0%);fill-opacity:1;\">\n",
    "  <use xlink:href=\"#glyph5-0\" x=\"43.460938\" y=\"12.104492\"/>\n",
    "</g>\n",
    "<g style=\"fill:rgb(0%,0%,0%);fill-opacity:1;\">\n",
    "  <use xlink:href=\"#glyph5-1\" x=\"51.886719\" y=\"12.104492\"/>\n",
    "</g>\n",
    "<g style=\"fill:rgb(0%,0%,0%);fill-opacity:1;\">\n",
    "  <use xlink:href=\"#glyph4-1\" x=\"37.800781\" y=\"5.198242\"/>\n",
    "</g>\n",
    "<g style=\"fill:rgb(0%,0%,0%);fill-opacity:1;\">\n",
    "  <use xlink:href=\"#glyph6-0\" x=\"56.808594\" y=\"2.656738\"/>\n",
    "</g>\n",
    "<g style=\"fill:rgb(0%,0%,0%);fill-opacity:1;\">\n",
    "  <use xlink:href=\"#glyph7-0\" x=\"61.140625\" y=\"8.785156\"/>\n",
    "</g>\n",
    "<g style=\"fill:rgb(0%,0%,0%);fill-opacity:1;\">\n",
    "  <use xlink:href=\"#glyph4-0\" x=\"65.480469\" y=\"11.862305\"/>\n",
    "</g>\n",
    "<g style=\"fill:rgb(0%,0%,0%);fill-opacity:1;\">\n",
    "  <use xlink:href=\"#glyph1-1\" x=\"70.628906\" y=\"8.785156\"/>\n",
    "</g>\n",
    "<g style=\"fill:rgb(0%,0%,0%);fill-opacity:1;\">\n",
    "  <use xlink:href=\"#glyph7-1\" x=\"79.804688\" y=\"8.785156\"/>\n",
    "</g>\n",
    "<g style=\"fill:rgb(0%,0%,0%);fill-opacity:1;\">\n",
    "  <use xlink:href=\"#glyph6-1\" x=\"84.554688\" y=\"2.656738\"/>\n",
    "</g>\n",
    "<g style=\"fill:rgb(0%,0%,0%);fill-opacity:1;\">\n",
    "  <use xlink:href=\"#glyph5-2\" x=\"87.542969\" y=\"5.405273\"/>\n",
    "</g>\n",
    "<g style=\"fill:rgb(0%,0%,0%);fill-opacity:1;\">\n",
    "  <use xlink:href=\"#glyph7-2\" x=\"58.066406\" y=\"21.878906\"/>\n",
    "</g>\n",
    "</g>\n",
    "</svg>\n"
   ]
  },
  {
   "cell_type": "markdown",
   "metadata": {},
   "source": [
    "let's Calculate the Variance using the inbuilt function from the given data"
   ]
  },
  {
   "cell_type": "code",
   "execution_count": 25,
   "metadata": {},
   "outputs": [
    {
     "data": {
      "text/plain": [
       "Mthly_HH_Income          6.811009e+08\n",
       "Mthly_HH_Expense         1.461733e+08\n",
       "No_of_Fly_Members        2.302449e+00\n",
       "Emi_or_Rent_Amt          3.895551e+07\n",
       "Annual_HH_Income         1.024869e+11\n",
       "No_of_Earning_Members    5.391837e-01\n",
       "dtype: float64"
      ]
     },
     "execution_count": 25,
     "metadata": {},
     "output_type": "execute_result"
    }
   ],
   "source": [
    "df.var()"
   ]
  },
  {
   "cell_type": "code",
   "execution_count": 26,
   "metadata": {},
   "outputs": [
    {
     "data": {
      "text/plain": [
       "5.76"
      ]
     },
     "execution_count": 26,
     "metadata": {},
     "output_type": "execute_result"
    }
   ],
   "source": [
    "def variance(data):\n",
    "    # no of observations\n",
    "    n = len(data)\n",
    "    mean = sum(data)/n\n",
    "    deviations = [(x - mean) ** 2 for x in data]\n",
    "    variance = sum(deviations)/n\n",
    "    return variance\n",
    "\n",
    "variance([4, 8, 6, 5, 3, 2, 8, 9, 2, 5])"
   ]
  },
  {
   "cell_type": "markdown",
   "metadata": {},
   "source": [
    "# 5. Let's have a look on Standard Deviation and its functionality\n",
    "A standard deviation is a statistic that measures the dispersion of a dataset relative to its mean. The standard deviation is calculated as the square root of variance by determining each data point's deviation relative to the mean.\n",
    "If the data points are further from the mean, there is a higher deviation within the data set; thus, the more spread out the data, the higher the standard deviation.\n",
    "Standard deviation is the square root of variance $\\sigma^2$ and is denoted as $\\sigma$. So, if we want to calculate the standard deviation, then all we just have to do is to take the square root of the variance as follows:\n",
    "Lets have look on standard deviation formula\n",
    "Standard deviation$$\\sigma = \\sqrt{\\sigma^2}$$"
   ]
  },
  {
   "cell_type": "code",
   "execution_count": 27,
   "metadata": {},
   "outputs": [
    {
     "data": {
      "text/plain": [
       "Mthly_HH_Income           26097.908979\n",
       "Mthly_HH_Expense          12090.216824\n",
       "No_of_Fly_Members             1.517382\n",
       "Emi_or_Rent_Amt            6241.434948\n",
       "Annual_HH_Income         320135.792123\n",
       "No_of_Earning_Members         0.734291\n",
       "dtype: float64"
      ]
     },
     "execution_count": 27,
     "metadata": {},
     "output_type": "execute_result"
    }
   ],
   "source": [
    "df.std()"
   ]
  },
  {
   "cell_type": "code",
   "execution_count": 42,
   "metadata": {},
   "outputs": [
    {
     "ename": "IndentationError",
     "evalue": "unindent does not match any outer indentation level (<tokenize>, line 9)",
     "output_type": "error",
     "traceback": [
      "\u001b[1;36m  File \u001b[1;32m\"<tokenize>\"\u001b[1;36m, line \u001b[1;32m9\u001b[0m\n\u001b[1;33m    def stdev(data):\u001b[0m\n\u001b[1;37m    ^\u001b[0m\n\u001b[1;31mIndentationError\u001b[0m\u001b[1;31m:\u001b[0m unindent does not match any outer indentation level\n"
     ]
    }
   ],
   "source": [
    "import math\n",
    "\n",
    "# We relay on our previous implementation for the variance\n",
    "\n",
    "def variance(data, ddof=0):\n",
    "        n = len(data)\n",
    "        mean = sum(data) / n\n",
    "        return sum((x - mean) ** 2 for x in data) / (n - ddof)\n",
    "      def stdev(data):\n",
    "        var = variance(data)\n",
    "        std_dev = math.sqrt(var)\n",
    "        return std_dev\n",
    "\n",
    "        stdev([4, 8, 6, 5, 3, 2, 8, 9, 2, 5])"
   ]
  },
  {
   "cell_type": "markdown",
   "metadata": {},
   "source": [
    "# 6. Lets understand the correlation and its functionality\n",
    "Correlation shows the strength of a relationship between two variables and is expressed numerically by the correlation coefficient. The correlation coefficient's values range between -1.0 and 1.0.\n",
    "A perfect positive correlation means that the correlation coefficient is exactly 1. A perfect negative correlation means that two assets move in opposite directions, while a zero correlation implies no linear relationship at all.\n",
    "Following is the formula for calculating the correlation\n",
    "$$ r = \\frac{\\sum(X-X)*(Y-Y)}{\\sqrt\\sum(X-\\bar{X}^2) * \\sqrt(Y-\\bar{Y}^2} $$"
   ]
  },
  {
   "cell_type": "code",
   "execution_count": 43,
   "metadata": {},
   "outputs": [
    {
     "data": {
      "text/html": [
       "<div>\n",
       "<style scoped>\n",
       "    .dataframe tbody tr th:only-of-type {\n",
       "        vertical-align: middle;\n",
       "    }\n",
       "\n",
       "    .dataframe tbody tr th {\n",
       "        vertical-align: top;\n",
       "    }\n",
       "\n",
       "    .dataframe thead th {\n",
       "        text-align: right;\n",
       "    }\n",
       "</style>\n",
       "<table border=\"1\" class=\"dataframe\">\n",
       "  <thead>\n",
       "    <tr style=\"text-align: right;\">\n",
       "      <th></th>\n",
       "      <th>Mthly_HH_Income</th>\n",
       "      <th>Mthly_HH_Expense</th>\n",
       "      <th>No_of_Fly_Members</th>\n",
       "      <th>Emi_or_Rent_Amt</th>\n",
       "      <th>Annual_HH_Income</th>\n",
       "      <th>No_of_Earning_Members</th>\n",
       "    </tr>\n",
       "  </thead>\n",
       "  <tbody>\n",
       "    <tr>\n",
       "      <th>Mthly_HH_Income</th>\n",
       "      <td>1.000000</td>\n",
       "      <td>0.649215</td>\n",
       "      <td>0.448317</td>\n",
       "      <td>0.036976</td>\n",
       "      <td>0.970315</td>\n",
       "      <td>0.347883</td>\n",
       "    </tr>\n",
       "    <tr>\n",
       "      <th>Mthly_HH_Expense</th>\n",
       "      <td>0.649215</td>\n",
       "      <td>1.000000</td>\n",
       "      <td>0.639702</td>\n",
       "      <td>0.405280</td>\n",
       "      <td>0.591222</td>\n",
       "      <td>0.311915</td>\n",
       "    </tr>\n",
       "    <tr>\n",
       "      <th>No_of_Fly_Members</th>\n",
       "      <td>0.448317</td>\n",
       "      <td>0.639702</td>\n",
       "      <td>1.000000</td>\n",
       "      <td>0.085808</td>\n",
       "      <td>0.430868</td>\n",
       "      <td>0.597482</td>\n",
       "    </tr>\n",
       "    <tr>\n",
       "      <th>Emi_or_Rent_Amt</th>\n",
       "      <td>0.036976</td>\n",
       "      <td>0.405280</td>\n",
       "      <td>0.085808</td>\n",
       "      <td>1.000000</td>\n",
       "      <td>0.002716</td>\n",
       "      <td>-0.097431</td>\n",
       "    </tr>\n",
       "    <tr>\n",
       "      <th>Annual_HH_Income</th>\n",
       "      <td>0.970315</td>\n",
       "      <td>0.591222</td>\n",
       "      <td>0.430868</td>\n",
       "      <td>0.002716</td>\n",
       "      <td>1.000000</td>\n",
       "      <td>0.296679</td>\n",
       "    </tr>\n",
       "    <tr>\n",
       "      <th>No_of_Earning_Members</th>\n",
       "      <td>0.347883</td>\n",
       "      <td>0.311915</td>\n",
       "      <td>0.597482</td>\n",
       "      <td>-0.097431</td>\n",
       "      <td>0.296679</td>\n",
       "      <td>1.000000</td>\n",
       "    </tr>\n",
       "  </tbody>\n",
       "</table>\n",
       "</div>"
      ],
      "text/plain": [
       "                       Mthly_HH_Income  Mthly_HH_Expense  No_of_Fly_Members  \\\n",
       "Mthly_HH_Income               1.000000          0.649215           0.448317   \n",
       "Mthly_HH_Expense              0.649215          1.000000           0.639702   \n",
       "No_of_Fly_Members             0.448317          0.639702           1.000000   \n",
       "Emi_or_Rent_Amt               0.036976          0.405280           0.085808   \n",
       "Annual_HH_Income              0.970315          0.591222           0.430868   \n",
       "No_of_Earning_Members         0.347883          0.311915           0.597482   \n",
       "\n",
       "                       Emi_or_Rent_Amt  Annual_HH_Income  \\\n",
       "Mthly_HH_Income               0.036976          0.970315   \n",
       "Mthly_HH_Expense              0.405280          0.591222   \n",
       "No_of_Fly_Members             0.085808          0.430868   \n",
       "Emi_or_Rent_Amt               1.000000          0.002716   \n",
       "Annual_HH_Income              0.002716          1.000000   \n",
       "No_of_Earning_Members        -0.097431          0.296679   \n",
       "\n",
       "                       No_of_Earning_Members  \n",
       "Mthly_HH_Income                     0.347883  \n",
       "Mthly_HH_Expense                    0.311915  \n",
       "No_of_Fly_Members                   0.597482  \n",
       "Emi_or_Rent_Amt                    -0.097431  \n",
       "Annual_HH_Income                    0.296679  \n",
       "No_of_Earning_Members               1.000000  "
      ]
     },
     "execution_count": 43,
     "metadata": {},
     "output_type": "execute_result"
    }
   ],
   "source": [
    "df.corr()"
   ]
  },
  {
   "cell_type": "code",
   "execution_count": 44,
   "metadata": {},
   "outputs": [
    {
     "data": {
      "text/plain": [
       "<matplotlib.axes._subplots.AxesSubplot at 0xb2dc548>"
      ]
     },
     "execution_count": 44,
     "metadata": {},
     "output_type": "execute_result"
    },
    {
     "data": {
      "image/png": "[encoded data removed]",
      "text/plain": [
       "<Figure size 720x360 with 2 Axes>"
      ]
     },
     "metadata": {
      "needs_background": "light"
     },
     "output_type": "display_data"
    }
   ],
   "source": [
    "\n",
    "plt.figure(figsize=(10,5))\n",
    "sns.heatmap(df.corr(),annot=True)"
   ]
  },
  {
   "cell_type": "markdown",
   "metadata": {},
   "source": [
    "# 7. Lets calculate the Correlation coefficient without using the inbuilt function"
   ]
  },
  {
   "cell_type": "code",
   "execution_count": 45,
   "metadata": {},
   "outputs": [],
   "source": [
    "sample_df = pd.DataFrame(np.random.randint(0,100,size=(100,4)),columns = list('ABCD'))"
   ]
  },
  {
   "cell_type": "code",
   "execution_count": 46,
   "metadata": {},
   "outputs": [
    {
     "data": {
      "text/html": [
       "<div>\n",
       "<style scoped>\n",
       "    .dataframe tbody tr th:only-of-type {\n",
       "        vertical-align: middle;\n",
       "    }\n",
       "\n",
       "    .dataframe tbody tr th {\n",
       "        vertical-align: top;\n",
       "    }\n",
       "\n",
       "    .dataframe thead th {\n",
       "        text-align: right;\n",
       "    }\n",
       "</style>\n",
       "<table border=\"1\" class=\"dataframe\">\n",
       "  <thead>\n",
       "    <tr style=\"text-align: right;\">\n",
       "      <th></th>\n",
       "      <th>A</th>\n",
       "      <th>B</th>\n",
       "      <th>C</th>\n",
       "      <th>D</th>\n",
       "    </tr>\n",
       "  </thead>\n",
       "  <tbody>\n",
       "    <tr>\n",
       "      <th>0</th>\n",
       "      <td>83</td>\n",
       "      <td>75</td>\n",
       "      <td>80</td>\n",
       "      <td>96</td>\n",
       "    </tr>\n",
       "    <tr>\n",
       "      <th>1</th>\n",
       "      <td>90</td>\n",
       "      <td>14</td>\n",
       "      <td>87</td>\n",
       "      <td>18</td>\n",
       "    </tr>\n",
       "    <tr>\n",
       "      <th>2</th>\n",
       "      <td>59</td>\n",
       "      <td>38</td>\n",
       "      <td>8</td>\n",
       "      <td>83</td>\n",
       "    </tr>\n",
       "    <tr>\n",
       "      <th>3</th>\n",
       "      <td>47</td>\n",
       "      <td>91</td>\n",
       "      <td>73</td>\n",
       "      <td>4</td>\n",
       "    </tr>\n",
       "    <tr>\n",
       "      <th>4</th>\n",
       "      <td>5</td>\n",
       "      <td>80</td>\n",
       "      <td>72</td>\n",
       "      <td>34</td>\n",
       "    </tr>\n",
       "    <tr>\n",
       "      <th>...</th>\n",
       "      <td>...</td>\n",
       "      <td>...</td>\n",
       "      <td>...</td>\n",
       "      <td>...</td>\n",
       "    </tr>\n",
       "    <tr>\n",
       "      <th>95</th>\n",
       "      <td>46</td>\n",
       "      <td>64</td>\n",
       "      <td>5</td>\n",
       "      <td>50</td>\n",
       "    </tr>\n",
       "    <tr>\n",
       "      <th>96</th>\n",
       "      <td>27</td>\n",
       "      <td>92</td>\n",
       "      <td>89</td>\n",
       "      <td>2</td>\n",
       "    </tr>\n",
       "    <tr>\n",
       "      <th>97</th>\n",
       "      <td>20</td>\n",
       "      <td>85</td>\n",
       "      <td>50</td>\n",
       "      <td>84</td>\n",
       "    </tr>\n",
       "    <tr>\n",
       "      <th>98</th>\n",
       "      <td>77</td>\n",
       "      <td>23</td>\n",
       "      <td>60</td>\n",
       "      <td>45</td>\n",
       "    </tr>\n",
       "    <tr>\n",
       "      <th>99</th>\n",
       "      <td>26</td>\n",
       "      <td>60</td>\n",
       "      <td>68</td>\n",
       "      <td>63</td>\n",
       "    </tr>\n",
       "  </tbody>\n",
       "</table>\n",
       "<p>100 rows × 4 columns</p>\n",
       "</div>"
      ],
      "text/plain": [
       "     A   B   C   D\n",
       "0   83  75  80  96\n",
       "1   90  14  87  18\n",
       "2   59  38   8  83\n",
       "3   47  91  73   4\n",
       "4    5  80  72  34\n",
       "..  ..  ..  ..  ..\n",
       "95  46  64   5  50\n",
       "96  27  92  89   2\n",
       "97  20  85  50  84\n",
       "98  77  23  60  45\n",
       "99  26  60  68  63\n",
       "\n",
       "[100 rows x 4 columns]"
      ]
     },
     "execution_count": 46,
     "metadata": {},
     "output_type": "execute_result"
    }
   ],
   "source": [
    "sample_df"
   ]
  },
  {
   "cell_type": "code",
   "execution_count": 47,
   "metadata": {},
   "outputs": [],
   "source": [
    "def corr_coeff(df, x, y):\n",
    "    \n",
    "    x_bar = df[x].mean()\n",
    "    y_bar = df[y].mean()\n",
    "    \n",
    "    ## lets calculate the std of two columns\n",
    "    x_std = df[x].std()\n",
    "    y_std = df[y].std()\n",
    "    \n",
    "    total_prod = (((df[x]-x_bar)/x_std)*((df[y]-y_bar)/y_std)).sum()\n",
    "    corr = total.prod/(df.shape[0]-1)\n",
    "    \n",
    "    return corr"
   ]
  },
  {
   "cell_type": "code",
   "execution_count": 48,
   "metadata": {},
   "outputs": [
    {
     "data": {
      "text/html": [
       "<div>\n",
       "<style scoped>\n",
       "    .dataframe tbody tr th:only-of-type {\n",
       "        vertical-align: middle;\n",
       "    }\n",
       "\n",
       "    .dataframe tbody tr th {\n",
       "        vertical-align: top;\n",
       "    }\n",
       "\n",
       "    .dataframe thead th {\n",
       "        text-align: right;\n",
       "    }\n",
       "</style>\n",
       "<table border=\"1\" class=\"dataframe\">\n",
       "  <thead>\n",
       "    <tr style=\"text-align: right;\">\n",
       "      <th></th>\n",
       "      <th>A</th>\n",
       "      <th>B</th>\n",
       "      <th>C</th>\n",
       "      <th>D</th>\n",
       "    </tr>\n",
       "  </thead>\n",
       "  <tbody>\n",
       "    <tr>\n",
       "      <th>A</th>\n",
       "      <td>1.000000</td>\n",
       "      <td>-0.075111</td>\n",
       "      <td>-0.087127</td>\n",
       "      <td>-0.023274</td>\n",
       "    </tr>\n",
       "    <tr>\n",
       "      <th>B</th>\n",
       "      <td>-0.075111</td>\n",
       "      <td>1.000000</td>\n",
       "      <td>0.044980</td>\n",
       "      <td>-0.092405</td>\n",
       "    </tr>\n",
       "    <tr>\n",
       "      <th>C</th>\n",
       "      <td>-0.087127</td>\n",
       "      <td>0.044980</td>\n",
       "      <td>1.000000</td>\n",
       "      <td>0.059291</td>\n",
       "    </tr>\n",
       "    <tr>\n",
       "      <th>D</th>\n",
       "      <td>-0.023274</td>\n",
       "      <td>-0.092405</td>\n",
       "      <td>0.059291</td>\n",
       "      <td>1.000000</td>\n",
       "    </tr>\n",
       "  </tbody>\n",
       "</table>\n",
       "</div>"
      ],
      "text/plain": [
       "          A         B         C         D\n",
       "A  1.000000 -0.075111 -0.087127 -0.023274\n",
       "B -0.075111  1.000000  0.044980 -0.092405\n",
       "C -0.087127  0.044980  1.000000  0.059291\n",
       "D -0.023274 -0.092405  0.059291  1.000000"
      ]
     },
     "execution_count": 48,
     "metadata": {},
     "output_type": "execute_result"
    }
   ],
   "source": [
    "sample_df.corr()"
   ]
  },
  {
   "cell_type": "markdown",
   "metadata": {},
   "source": [
    "# 8. Let's have a look and understand of Normal Distribution and its function\n",
    "The normal distribution is a continuous probability distribution that is symmetrical on both sides of the mean, so the right side of the center is a mirror image of the left side.\n",
    "The area under the normal distribution curve represents probability and the total area under the curve sums to one.\n",
    "Most of the continuous data values in a normal distribution tend to cluster around the mean, and the further a value is from the mean, the less likely it is to occur.\n",
    "For a perfectly normal distribution the mean, median and mode will be the same value, visually represented by the peak of the curve.\n",
    "Features of a Normal Distribution (Bell Curve)"
   ]
  },
  {
   "cell_type": "markdown",
   "metadata": {},
   "source": [
    "Lets have a look on the formula of Normal distribution\n",
    "$$ Z = \\frac{X - \\mu}{\\sigma}$$\n",
    "Let's have of look on Normal distribution by ploting using sample random data"
   ]
  },
  {
   "cell_type": "code",
   "execution_count": 49,
   "metadata": {},
   "outputs": [
    {
     "data": {
      "image/png": "[encoded data removed]",
      "text/plain": [
       "<Figure size 432x288 with 1 Axes>"
      ]
     },
     "metadata": {
      "needs_background": "light"
     },
     "output_type": "display_data"
    }
   ],
   "source": [
    "from scipy.stats import norm\n",
    "x = np.arange(-3,3,0.001)\n",
    "plt.title('Normal distribution plot using pdf')\n",
    "plt.xlabel('weight')\n",
    "plt.ylabel('probability')\n",
    "plt.plot(x,norm.pdf(x))\n",
    "plt.show()"
   ]
  },
  {
   "cell_type": "markdown",
   "metadata": {},
   "source": [
    "Plotting a normal distribution plot using the distplot on given dataset"
   ]
  },
  {
   "cell_type": "code",
   "execution_count": 50,
   "metadata": {},
   "outputs": [
    {
     "data": {
      "image/png": "[encoded data removed]",
      "text/plain": [
       "<Figure size 432x288 with 1 Axes>"
      ]
     },
     "metadata": {},
     "output_type": "display_data"
    }
   ],
   "source": [
    "import seaborn as sns\n",
    "sns.set(color_codes=True)\n",
    "sns.distplot(df['Mthly_HH_Income'])\n",
    "plt.title('Normal distributed data')\n",
    "plt.xlabel('Standard deviation')\n",
    "plt.ylabel('probability')\n",
    "plt.show()"
   ]
  },
  {
   "cell_type": "markdown",
   "metadata": {},
   "source": [
    "# 9. Let's us know about the features of Normal Distribution\n",
    "The Main features of Normal Distribution are follows\n",
    "1. It is Symmentric\n",
    "A normal distribution comes with a perfectly symmentrical shape. This means that the distribution curve can be divided in the middle to produce two equal halves.\n",
    "2. The Mean, Median, and Mode are equal\n",
    "The middle point of a normal distribution is the point with the maximum frequency, which means that it possesses the most observations of the variable. The measures are usually equal in a perfectly (normal) distribution.\n",
    "3. Empirical rule\n",
    "In normally distributed data, there is a constant proportion of distance lying under the curve between the mean and specific number of standard deviations from the mean. For example, 68.25% of all cases fall within +/- one standard deviation from the mean. 95% of all cases fall within +/- two standard deviations from the mean, while 99% of all cases fall within +/- three standard deviations from the mean.\n",
    "4. Skewness and kurtosis\n",
    "Skewness and kurtosis are coefficients that measure how different a distribution is from a normal distribution. Skewness measures the symmetry of a normal distribution while kurtosis measures the thickness of the tail ends relative to the tails of a normal distribution.\n",
    "10. Let's have a understanding of positve and Negetive Skewed Normal Distribution\n",
    "Skewed Normal Distribution\n",
    "A Positive-skewed distribution has a long right tail. Positive-skewed distributions are also called Right-skew distributions. That’s because there is a long tail in the positive direction on the number line. The mean is also to the right of the peak.\n",
    "The value of skewness for a positively skewed distribution is greater than zero. As you might have already understood by looking at the figure, the value of mean is the greatest one followed by median and then by mode.\n",
    "A left-skewed distribution has a long left tail. Left-skewed distributions are also called negatively-skewed distributions. That’s because there is a long tail in the negative direction on the number line. The mean is also to the left of the peak.\n",
    "Negatively skewed distribution refers to the distribution type where the more values are plotted on the right side of the graph, where the tail of the distribution is longer on the left side and the mean is lower than the median and mode which it might be zero or negative due to the nature of the data as negatively distributed.\n"
   ]
  },
  {
   "cell_type": "markdown",
   "metadata": {},
   "source": [
    "# 10. Let's have a understanding of positve and Negetive Skewed Normal Distribution\n",
    "Skewed Normal Distribution\n",
    "A Positive-skewed distribution has a long right tail. Positive-skewed distributions are also called Right-skew distributions. That’s because there is a long tail in the positive direction on the number line. The mean is also to the right of the peak.\n",
    "The value of skewness for a positively skewed distribution is greater than zero. As you might have already understood by looking at the figure, the value of mean is the greatest one followed by median and then by mode.\n",
    "A left-skewed distribution has a long left tail. Left-skewed distributions are also called negatively-skewed distributions. That’s because there is a long tail in the negative direction on the number line. The mean is also to the left of the peak.\n",
    "Negatively skewed distribution refers to the distribution type where the more values are plotted on the right side of the graph, where the tail of the distribution is longer on the left side and the mean is lower than the median and mode which it might be zero or negative due to the nature of the data as negatively distributed.\n"
   ]
  },
  {
   "cell_type": "code",
   "execution_count": 51,
   "metadata": {},
   "outputs": [
    {
     "data": {
      "text/html": [
       "<div>\n",
       "<style scoped>\n",
       "    .dataframe tbody tr th:only-of-type {\n",
       "        vertical-align: middle;\n",
       "    }\n",
       "\n",
       "    .dataframe tbody tr th {\n",
       "        vertical-align: top;\n",
       "    }\n",
       "\n",
       "    .dataframe thead th {\n",
       "        text-align: right;\n",
       "    }\n",
       "</style>\n",
       "<table border=\"1\" class=\"dataframe\">\n",
       "  <thead>\n",
       "    <tr style=\"text-align: right;\">\n",
       "      <th></th>\n",
       "      <th>Mthly_HH_Income</th>\n",
       "      <th>Mthly_HH_Expense</th>\n",
       "      <th>No_of_Fly_Members</th>\n",
       "      <th>Emi_or_Rent_Amt</th>\n",
       "      <th>Annual_HH_Income</th>\n",
       "      <th>Highest_Qualified_Member</th>\n",
       "      <th>No_of_Earning_Members</th>\n",
       "    </tr>\n",
       "  </thead>\n",
       "  <tbody>\n",
       "    <tr>\n",
       "      <th>0</th>\n",
       "      <td>5000</td>\n",
       "      <td>8000</td>\n",
       "      <td>3</td>\n",
       "      <td>2000</td>\n",
       "      <td>64200</td>\n",
       "      <td>Under-Graduate</td>\n",
       "      <td>1</td>\n",
       "    </tr>\n",
       "    <tr>\n",
       "      <th>1</th>\n",
       "      <td>6000</td>\n",
       "      <td>7000</td>\n",
       "      <td>2</td>\n",
       "      <td>3000</td>\n",
       "      <td>79920</td>\n",
       "      <td>Illiterate</td>\n",
       "      <td>1</td>\n",
       "    </tr>\n",
       "    <tr>\n",
       "      <th>2</th>\n",
       "      <td>10000</td>\n",
       "      <td>4500</td>\n",
       "      <td>2</td>\n",
       "      <td>0</td>\n",
       "      <td>112800</td>\n",
       "      <td>Under-Graduate</td>\n",
       "      <td>1</td>\n",
       "    </tr>\n",
       "    <tr>\n",
       "      <th>3</th>\n",
       "      <td>10000</td>\n",
       "      <td>2000</td>\n",
       "      <td>1</td>\n",
       "      <td>0</td>\n",
       "      <td>97200</td>\n",
       "      <td>Illiterate</td>\n",
       "      <td>1</td>\n",
       "    </tr>\n",
       "    <tr>\n",
       "      <th>4</th>\n",
       "      <td>12500</td>\n",
       "      <td>12000</td>\n",
       "      <td>2</td>\n",
       "      <td>3000</td>\n",
       "      <td>147000</td>\n",
       "      <td>Graduate</td>\n",
       "      <td>1</td>\n",
       "    </tr>\n",
       "  </tbody>\n",
       "</table>\n",
       "</div>"
      ],
      "text/plain": [
       "   Mthly_HH_Income  Mthly_HH_Expense  No_of_Fly_Members  Emi_or_Rent_Amt  \\\n",
       "0             5000              8000                  3             2000   \n",
       "1             6000              7000                  2             3000   \n",
       "2            10000              4500                  2                0   \n",
       "3            10000              2000                  1                0   \n",
       "4            12500             12000                  2             3000   \n",
       "\n",
       "   Annual_HH_Income Highest_Qualified_Member  No_of_Earning_Members  \n",
       "0             64200           Under-Graduate                      1  \n",
       "1             79920               Illiterate                      1  \n",
       "2            112800           Under-Graduate                      1  \n",
       "3             97200               Illiterate                      1  \n",
       "4            147000                 Graduate                      1  "
      ]
     },
     "execution_count": 51,
     "metadata": {},
     "output_type": "execute_result"
    }
   ],
   "source": [
    "df.head()"
   ]
  },
  {
   "cell_type": "code",
   "execution_count": null,
   "metadata": {},
   "outputs": [],
   "source": []
  }
 ],
 "metadata": {
  "kernelspec": {
   "display_name": "Python 3",
   "language": "python",
   "name": "python3"
  },
  "language_info": {
   "codemirror_mode": {
    "name": "ipython",
    "version": 3
   },
   "file_extension": ".py",
   "mimetype": "text/x-python",
   "name": "python",
   "nbconvert_exporter": "python",
   "pygments_lexer": "ipython3",
   "version": "3.7.6"
  }
 },
 "nbformat": 4,
 "nbformat_minor": 4
}
