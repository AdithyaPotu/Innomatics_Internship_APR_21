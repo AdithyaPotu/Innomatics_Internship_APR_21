{
 "cells": [
  {
   "cell_type": "code",
   "execution_count": 2,
   "metadata": {},
   "outputs": [
    {
     "name": "stdout",
     "output_type": "stream",
     "text": [
      "1.09 1\n",
      "0.696\n"
     ]
    }
   ],
   "source": [
    "# question 1\n",
    "## calculating  the Binomial distribution problem\n",
    "\n",
    "from math import factorial\n",
    "\n",
    "def b(n,x,p):\n",
    "    return factorial(n)//factorial(n-x)//factorial(x) * (p ** x) * (1-p) ** (n-x)\n",
    "\n",
    "b1,g1 = map(float,input().split())\n",
    "p = b1/(b1 + g1)\n",
    "r = b(6,3,p) + b(6,4,p) +b(6,5,p) +b(6,6,p)\n",
    "print(\"%.3f\" % r)"
   ]
  },
  {
   "cell_type": "code",
   "execution_count": 3,
   "metadata": {},
   "outputs": [
    {
     "name": "stdout",
     "output_type": "stream",
     "text": [
      "0.891\n",
      "0.342\n"
     ]
    }
   ],
   "source": [
    "#question2\n",
    "# Calculating the binomial distribution problem II\n",
    "import math \n",
    "P = 0.12  #12%  of the pistons they manufacture \n",
    "A1 = 0 #first round\n",
    "\n",
    "for i in range(0, 3):\n",
    "    A1 += math.factorial(10)/math.factorial(i)/math.factorial(10-i) * P**i * (1-P)**(10-i)\n",
    "    if i == 1:\n",
    "        A2 = 1 - A1 #second round \n",
    "#print each round upto a scale of 3 decimal places\n",
    "print(round(A1, 3))\n",
    "print(round(A2, 3))"
   ]
  },
  {
   "cell_type": "code",
   "execution_count": 5,
   "metadata": {},
   "outputs": [
    {
     "name": "stdout",
     "output_type": "stream",
     "text": [
      "20 22\n",
      "19.5\n"
     ]
    },
    {
     "ename": "TypeError",
     "evalue": "unsupported operand type(s) for -: 'str' and 'str'",
     "output_type": "error",
     "traceback": [
      "\u001b[1;31m---------------------------------------------------------------------------\u001b[0m",
      "\u001b[1;31mTypeError\u001b[0m                                 Traceback (most recent call last)",
      "\u001b[1;32m<ipython-input-5-40b9722b708f>\u001b[0m in \u001b[0;36m<module>\u001b[1;34m\u001b[0m\n\u001b[0;32m      9\u001b[0m \u001b[1;31m# less than 19.5\u001b[0m\u001b[1;33m\u001b[0m\u001b[1;33m\u001b[0m\u001b[1;33m\u001b[0m\u001b[0m\n\u001b[0;32m     10\u001b[0m \u001b[1;33m\u001b[0m\u001b[0m\n\u001b[1;32m---> 11\u001b[1;33m \u001b[0mprint\u001b[0m\u001b[1;33m(\u001b[0m\u001b[1;34m'{:.3f}'\u001b[0m\u001b[1;33m.\u001b[0m\u001b[0mformat\u001b[0m\u001b[1;33m(\u001b[0m\u001b[0mcdf\u001b[0m\u001b[1;33m(\u001b[0m\u001b[0minput\u001b[0m\u001b[1;33m(\u001b[0m\u001b[1;33m)\u001b[0m\u001b[1;33m)\u001b[0m\u001b[1;33m)\u001b[0m\u001b[1;33m)\u001b[0m\u001b[1;33m\u001b[0m\u001b[1;33m\u001b[0m\u001b[0m\n\u001b[0m\u001b[0;32m     12\u001b[0m \u001b[1;33m\u001b[0m\u001b[0m\n\u001b[0;32m     13\u001b[0m \u001b[1;31m# between 20 and 22\u001b[0m\u001b[1;33m\u001b[0m\u001b[1;33m\u001b[0m\u001b[1;33m\u001b[0m\u001b[0m\n",
      "\u001b[1;32m<ipython-input-5-40b9722b708f>\u001b[0m in \u001b[0;36m<lambda>\u001b[1;34m(x)\u001b[0m\n\u001b[0;32m      5\u001b[0m \u001b[0mmean\u001b[0m\u001b[1;33m,\u001b[0m\u001b[0mstd\u001b[0m \u001b[1;33m=\u001b[0m \u001b[0minput\u001b[0m\u001b[1;33m(\u001b[0m\u001b[1;33m)\u001b[0m\u001b[1;33m.\u001b[0m\u001b[0msplit\u001b[0m\u001b[1;33m(\u001b[0m\u001b[1;33m)\u001b[0m\u001b[1;33m\u001b[0m\u001b[1;33m\u001b[0m\u001b[0m\n\u001b[0;32m      6\u001b[0m \u001b[1;33m\u001b[0m\u001b[0m\n\u001b[1;32m----> 7\u001b[1;33m \u001b[0mcdf\u001b[0m \u001b[1;33m=\u001b[0m \u001b[1;32mlambda\u001b[0m \u001b[0mx\u001b[0m\u001b[1;33m:\u001b[0m \u001b[1;36m0.5\u001b[0m \u001b[1;33m*\u001b[0m \u001b[1;33m(\u001b[0m\u001b[1;36m1\u001b[0m \u001b[1;33m+\u001b[0m \u001b[0mmath\u001b[0m\u001b[1;33m.\u001b[0m\u001b[0merf\u001b[0m\u001b[1;33m(\u001b[0m\u001b[1;33m(\u001b[0m\u001b[0mx\u001b[0m \u001b[1;33m-\u001b[0m \u001b[0mmean\u001b[0m\u001b[1;33m)\u001b[0m\u001b[1;33m/\u001b[0m\u001b[1;33m(\u001b[0m\u001b[0mstd\u001b[0m\u001b[1;33m*\u001b[0m\u001b[1;33m(\u001b[0m\u001b[1;36m2\u001b[0m\u001b[1;33m**\u001b[0m\u001b[1;36m0.5\u001b[0m\u001b[1;33m)\u001b[0m\u001b[1;33m)\u001b[0m\u001b[1;33m)\u001b[0m\u001b[1;33m)\u001b[0m\u001b[1;33m\u001b[0m\u001b[1;33m\u001b[0m\u001b[0m\n\u001b[0m\u001b[0;32m      8\u001b[0m \u001b[1;33m\u001b[0m\u001b[0m\n\u001b[0;32m      9\u001b[0m \u001b[1;31m# less than 19.5\u001b[0m\u001b[1;33m\u001b[0m\u001b[1;33m\u001b[0m\u001b[1;33m\u001b[0m\u001b[0m\n",
      "\u001b[1;31mTypeError\u001b[0m: unsupported operand type(s) for -: 'str' and 'str'"
     ]
    }
   ],
   "source": [
    "#question3 \n",
    "## Calculating the Normal disribution problem I\n",
    "import math \n",
    "\n",
    "mean,std = input().split()\n",
    "\n",
    "cdf = lambda x: 0.5 * (1 + math.erf((x - mean)/(std*(2**0.5))))\n",
    "\n",
    "# less than 19.5\n",
    "\n",
    "print('{:.3f}'.format(cdf(input())))\n",
    "\n",
    "# between 20 and 22\n",
    "\n",
    "print('{:.3f}'.format((cdf(input())-cdf(input()))))"
   ]
  },
  {
   "cell_type": "code",
   "execution_count": 6,
   "metadata": {},
   "outputs": [
    {
     "name": "stdout",
     "output_type": "stream",
     "text": [
      "probability of grade greater then 80 is: 15.87\n",
      "probability of grade greater then or equal to 60 is: 84.13\n",
      "probability of grade less then 60 is: 15.87\n"
     ]
    }
   ],
   "source": [
    "#question4\n",
    "## Calculating the Normal distribution problem II\n",
    "\n",
    "import math\n",
    "\n",
    "mean,std = 70,10\n",
    "\n",
    "cdf = lambda x: 0.5 * (1+math.erf((x-mean)/(std*(2**0.5))))\n",
    "\n",
    "## Grade greater then 80\n",
    "print('probability of grade greater then 80 is: {:.2f}'.format((1-cdf(80))*100))\n",
    "\n",
    "## Grade greater then or equal to 60.(>=60)\n",
    "\n",
    "print('probability of grade greater then or equal to 60 is: {:.2f}'.format((1-cdf(60))*100))\n",
    "\n",
    "# grade less then 60 \n",
    "print('probability of grade less then 60 is: {:.2f}'.format(cdf(60)*100))"
   ]
  },
  {
   "cell_type": "code",
   "execution_count": 7,
   "metadata": {},
   "outputs": [
    {
     "name": "stdout",
     "output_type": "stream",
     "text": [
      "9800\n",
      "49\n",
      "205\n",
      "15\n",
      "0.0098\n"
     ]
    }
   ],
   "source": [
    "#question 5\n",
    "#central limit theorem I\n",
    "import math\n",
    "\n",
    "H = int(input())\n",
    "B = int(input())\n",
    "C = int(input())\n",
    "INPUT = math.sqrt(B) * int(input())\n",
    "\n",
    "print(round(0.5 * (1 + math.erf((H - (B * C)) / (INPUT * math.sqrt(2)))), 4))"
   ]
  },
  {
   "cell_type": "code",
   "execution_count": 8,
   "metadata": {},
   "outputs": [
    {
     "name": "stdout",
     "output_type": "stream",
     "text": [
      "0.6915\n"
     ]
    }
   ],
   "source": [
    "#question 6\n",
    "\n",
    "#Central Limit theorem II\n",
    "import math\n",
    "\n",
    "TICKETS = 250\n",
    "STUDENTS = 100\n",
    "MEAN = 2.4\n",
    "SD = 2\n",
    "\n",
    "MU = STUDENTS * MEAN\n",
    "S = math.sqrt(100)*SD\n",
    "\n",
    "def normal_distribution(x, mu, sd):\n",
    "    '''Function to calculate the distribution'''\n",
    "    return 1/2*(1+math.erf((x-mu)/(sd*math.sqrt(2))))\n",
    "\n",
    "print(round(normal_distribution(x=TICKETS, mu=MU, sd=S), 4))"
   ]
  },
  {
   "cell_type": "code",
   "execution_count": 9,
   "metadata": {},
   "outputs": [
    {
     "ename": "SyntaxError",
     "evalue": "unexpected EOF while parsing (<ipython-input-9-1b655ba19b89>, line 13)",
     "output_type": "error",
     "traceback": [
      "\u001b[1;36m  File \u001b[1;32m\"<ipython-input-9-1b655ba19b89>\"\u001b[1;36m, line \u001b[1;32m13\u001b[0m\n\u001b[1;33m    print(round(mean+(std/sqrt(s))*z,2)\u001b[0m\n\u001b[1;37m                                       ^\u001b[0m\n\u001b[1;31mSyntaxError\u001b[0m\u001b[1;31m:\u001b[0m unexpected EOF while parsing\n"
     ]
    }
   ],
   "source": [
    "#question7\n",
    "## Calculating the central limit theorem problem 3\n",
    "\n",
    "from math import sqrt\n",
    "\n",
    "s = int(input())\n",
    "mean = int(input())\n",
    "std = int(input())\n",
    "interval = float(input())\n",
    "z = float(input())\n",
    "\n",
    "print(round(mean-(std/sqrt(s))*z,2))\n",
    "print(round(mean+(std/sqrt(s))*z,2)\n"
   ]
  },
  {
   "cell_type": "code",
   "execution_count": 10,
   "metadata": {},
   "outputs": [
    {
     "name": "stdout",
     "output_type": "stream",
     "text": [
      "10\n",
      "10 9.8 8 7.8 7.7 7 6 5 4 2 \n",
      "200 44 32 24 22 17 15 12 8 4\n",
      "0.612\n"
     ]
    }
   ],
   "source": [
    "#quetion 7\n",
    "#Pearson Correlation Coefficient I\n",
    "\n",
    "\n",
    "def std(x):\n",
    "    return (sum([(i-(sum(x))/len(x))**2 for i in x])/len(x))**0.5\n",
    "\n",
    "N = int(input())\n",
    "X = list(map(float, input().split()))\n",
    "Y = list(map(float, input().split()))\n",
    "\n",
    "X_M = sum(X)/len(X)\n",
    "Y_M = sum(Y)/len(Y)\n",
    "\n",
    "X_S = std(X)\n",
    "Y_S = std(Y)\n",
    "\n",
    "print(round(sum([(i-X_M)*(j-Y_M) for i, j in zip(X, Y)])/(N*X_S*Y_S), 3))"
   ]
  },
  {
   "cell_type": "code",
   "execution_count": 12,
   "metadata": {},
   "outputs": [
    {
     "name": "stdout",
     "output_type": "stream",
     "text": [
      "95 86\n",
      "78 87\n",
      "98 89\n",
      "76 89\n",
      "56 65\n",
      "82.91\n"
     ]
    }
   ],
   "source": [
    "#question 8\n",
    "#Least Square Regression Line\n",
    "def mean(X):\n",
    "    '''To calculate the mean'''\n",
    "    return sum(X)/len(X)\n",
    "\n",
    "def lsr(X, Y):\n",
    "    '''To calculate the Least Square Regression'''\n",
    "    B = sum([(X[i] - mean(X)) * (Y[i] - mean(Y)) for i in range(len(X))])/sum([(j - mean(X))**2 for j in X])\n",
    "    A = mean(Y) - (B*mean(X))\n",
    "    return A+(B*80)\n",
    "\n",
    "X = []\n",
    "Y = []\n",
    "\n",
    "for i in range(5):\n",
    "    A, B = list(map(int, input().split()))\n",
    "    X.append(A)\n",
    "    Y.append(B)\n",
    "\n",
    "print(round(lsr(X, Y), 3))"
   ]
  },
  {
   "cell_type": "code",
   "execution_count": null,
   "metadata": {},
   "outputs": [],
   "source": [
    "#question-9\n",
    "##multiple linear regression\n",
    "from sklearn import linear_model\n",
    "\n",
    "M, N = list(map(int, input().strip().split()))\n",
    "X = [0]*N\n",
    "Y = [0]*N\n",
    "\n",
    "for i in range(N):\n",
    "    inp = list(map(float, input().strip().split()))\n",
    "    X[i] = inp[:-1]\n",
    "    Y[i] = inp[-1]\n",
    "\n",
    "LM = linear_model.LinearRegression()\n",
    "LM.fit(X, Y)\n",
    "A = LM.intercept_\n",
    "B = LM.coef_\n",
    "\n",
    "Q = int(input())\n",
    "\n",
    "for i in range(Q):\n",
    "    f = list(map(float, input().strip().split()))\n",
    "    Y = A + sum([B[j] * f[j] for j in range(M)])\n",
    "    print(round(Y, 2))"
   ]
  },
  {
   "cell_type": "code",
   "execution_count": null,
   "metadata": {},
   "outputs": [],
   "source": []
  }
 ],
 "metadata": {
  "kernelspec": {
   "display_name": "Python 3",
   "language": "python",
   "name": "python3"
  },
  "language_info": {
   "codemirror_mode": {
    "name": "ipython",
    "version": 3
   },
   "file_extension": ".py",
   "mimetype": "text/x-python",
   "name": "python",
   "nbconvert_exporter": "python",
   "pygments_lexer": "ipython3",
   "version": "3.7.6"
  }
 },
 "nbformat": 4,
 "nbformat_minor": 4
}
