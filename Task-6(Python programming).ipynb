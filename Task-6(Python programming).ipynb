{
 "cells": [
  {
   "cell_type": "code",
   "execution_count": null,
   "metadata": {},
   "outputs": [],
   "source": [
    "#question1\n",
    "#array\n",
    "import numpy\n",
    "def arrays(arr):\n",
    "    # complete this function\n",
    "    # use numpy.array\n",
    "    a = numpy.array(arr, float)\n",
    "    return a[::-1]\n",
    "arr = input().strip().split(' ')\n",
    "result = arrays(arr)\n",
    "print(result)"
   ]
  },
  {
   "cell_type": "code",
   "execution_count": null,
   "metadata": {},
   "outputs": [],
   "source": [
    "#question2\n",
    "#shapeand reshape\n",
    "import numpy\n",
    "my_array = numpy.array(input().split(),int)\n",
    "s=numpy.reshape(my_array,(3,3))\n",
    "print (s)"
   ]
  },
  {
   "cell_type": "code",
   "execution_count": null,
   "metadata": {},
   "outputs": [],
   "source": [
    "#question3\n",
    "#Transpose and Flatten\n",
    "\n",
    "\n",
    "import numpy as np\n",
    "\n",
    "N,M = map(int,input().split())\n",
    "array = np.array([input().strip().split() for _ in range(N)],int)\n",
    "\n",
    "print(array.transpose())\n",
    "print(array.flatten())\n",
    "\n",
    "\n"
   ]
  },
  {
   "cell_type": "code",
   "execution_count": null,
   "metadata": {},
   "outputs": [],
   "source": [
    "#question4\n",
    "#concatenate\n",
    "import numpy as np\n",
    "N,M,P = map(int,input().split())\n",
    "\n",
    "arr_N = np.array([input().strip().split() for _ in range(N)],int)\n",
    "arr_M = np.array([input().strip().split() for _ in range(M)],int)\n",
    "\n",
    "print(np.concatenate((arr_N, arr_M), axis=0))\n"
   ]
  },
  {
   "cell_type": "code",
   "execution_count": null,
   "metadata": {},
   "outputs": [],
   "source": [
    "#question5\n",
    "#Zeros and Ones\n",
    "import numpy as np\n",
    "\n",
    "n = tuple(map(int,input().split()))\n",
    "\n",
    "print(np.zeros(n, dtype = np.int))\n",
    "print(np.ones(n,dtype = np.int))"
   ]
  },
  {
   "cell_type": "code",
   "execution_count": null,
   "metadata": {},
   "outputs": [],
   "source": [
    "#question6\n",
    "#eye and identity\n",
    "import numpy as np\n",
    "N,M = map(int, input().split())\n",
    "np.set_printoptions(legacy = '1.13')\n",
    "print (np.eye(N,M),)"
   ]
  },
  {
   "cell_type": "code",
   "execution_count": null,
   "metadata": {},
   "outputs": [],
   "source": [
    "#question7\n",
    "#Array Mathematics \n",
    "import numpy as np\n",
    "n, m = tuple(map(int, input().split()))\n",
    "\n",
    "a = np.array([input().split() for i in range(0, n)], int)\n",
    "b = np.array([input().split() for j in range(0, n)], int)\n",
    "\n",
    "print(a+b, a-b, a*b, a//b, a % b, a**b, sep='\\n')"
   ]
  },
  {
   "cell_type": "code",
   "execution_count": null,
   "metadata": {},
   "outputs": [],
   "source": [
    "#question8\n",
    "#Floor, Ceil and Rint\n",
    "import numpy as np\n",
    "my_array = np.array(input().split(), float)\n",
    "np.set_printoptions(legacy = '1.13')\n",
    "print(np.floor(my_array), np.ceil(my_array), np.rint(my_array), sep='\\n')\n",
    "\n",
    "\n"
   ]
  },
  {
   "cell_type": "code",
   "execution_count": null,
   "metadata": {},
   "outputs": [],
   "source": [
    "#question9\n",
    "#Sum and Prod\n",
    "import numpy as np\n",
    "\n",
    "N,M = map(int,input().split())\n",
    "A = np.array([input().split() for _ in range(N)],int)\n",
    "print(np.prod(np.sum(A,axis=0),axis=0))\n"
   ]
  },
  {
   "cell_type": "code",
   "execution_count": null,
   "metadata": {},
   "outputs": [],
   "source": [
    "#question10\n",
    "#max and min\n",
    "import numpy as np\n",
    "\n",
    "N,M = map(int,input().split())\n",
    "list1 = []\n",
    "for i in range(N):\n",
    "    l =list(map(int,input().split()))\n",
    "    list1.append(l)\n",
    "arr = np.array(list1)\n",
    "print(np.max(np.min(arr,axis = 1)))"
   ]
  },
  {
   "cell_type": "code",
   "execution_count": null,
   "metadata": {},
   "outputs": [],
   "source": [
    "#question11\n",
    "#Mean,var,std\n",
    "## Finding the mean,var and std of the given array\n",
    "\n",
    "import numpy as np \n",
    "\n",
    "N,M = map(int, input().split())\n",
    "b = []\n",
    "for i in range(N):\n",
    "    a = list(map(int, input().split()))\n",
    "    b.append(a)\n",
    "\n",
    "b = np.array(b)\n",
    "\n",
    "#np.set_printoptions(legacy='1.13')\n",
    "print(np.mean(b, axis = 1))\n",
    "print(np.var(b, axis = 0))\n",
    "output = np.std(b)\n",
    "print(output.round(12))\n"
   ]
  },
  {
   "cell_type": "code",
   "execution_count": null,
   "metadata": {},
   "outputs": [],
   "source": [
    "#question12\n",
    "#dot\n",
    "import numpy as np\n",
    "\n",
    "n = int(input())\n",
    "A = np.array([input().split() for i in range(n)],int)\n",
    "B = np.array([input().split() for i in range(n)],int)\n",
    "print(A.dot(B))"
   ]
  },
  {
   "cell_type": "code",
   "execution_count": null,
   "metadata": {},
   "outputs": [],
   "source": [
    "#question13\n",
    "#innerand outer\n",
    "import numpy as np\n",
    "\n",
    "a = np.array(input().split(), int)\n",
    "b = np.array(input().split(), int)\n",
    "print(np.inner(a, b), np.outer(a, b), sep='\\n')"
   ]
  },
  {
   "cell_type": "code",
   "execution_count": null,
   "metadata": {},
   "outputs": [],
   "source": [
    "#question14\n",
    "#polynomials\n",
    "## finding the polynomial factor\n",
    "\n",
    "import numpy as np\n",
    "\n",
    "l = list(map(float,input().split()))\n",
    "n = int(input())\n",
    "arr = np.array(l)\n",
    "print(np.polyval(arr,n))\n"
   ]
  },
  {
   "cell_type": "code",
   "execution_count": null,
   "metadata": {},
   "outputs": [],
   "source": [
    "#question15\n",
    "#linear ALGEBRA\n",
    "import numpy as np\n",
    "n = int(input())\n",
    "running_list = []\n",
    "for i in range(0, n):\n",
    "    running_list.append([x for x in input().split()])\n",
    "    \n",
    "my_array = np.array(running_list, float)\n",
    "print(np.linalg.det(my_array))"
   ]
  },
  {
   "cell_type": "code",
   "execution_count": null,
   "metadata": {},
   "outputs": [],
   "source": []
  }
 ],
 "metadata": {
  "kernelspec": {
   "display_name": "Python 3",
   "language": "python",
   "name": "python3"
  },
  "language_info": {
   "codemirror_mode": {
    "name": "ipython",
    "version": 3
   },
   "file_extension": ".py",
   "mimetype": "text/x-python",
   "name": "python",
   "nbconvert_exporter": "python",
   "pygments_lexer": "ipython3",
   "version": "3.7.6"
  }
 },
 "nbformat": 4,
 "nbformat_minor": 4
}
