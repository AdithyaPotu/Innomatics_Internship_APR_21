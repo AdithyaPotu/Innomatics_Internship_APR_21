{
 "cells": [
  {
   "cell_type": "code",
   "execution_count": 1,
   "metadata": {},
   "outputs": [
    {
     "name": "stdout",
     "output_type": "stream",
     "text": [
      "1\n",
      "12345\n",
      "False\n"
     ]
    }
   ],
   "source": [
    "#question 1\n",
    "#Detect Floating Point Number\n",
    "from re import match, compile\n",
    "\n",
    "n= int(input())\n",
    "p = compile('^[-+]?[0-9]*\\.[0-9]+$')\n",
    "for i in range(n):\n",
    "    print(bool(p.match(input())))"
   ]
  },
  {
   "cell_type": "code",
   "execution_count": 2,
   "metadata": {},
   "outputs": [
    {
     "name": "stdout",
     "output_type": "stream",
     "text": [
      "2334abcderfre\n",
      "2334abcderfre\n"
     ]
    }
   ],
   "source": [
    "#QUESTION2\n",
    "#re.split()\n",
    "## Spliting the data with commas or full stop using regexp\n",
    "regex_pattern = r\"[,.]\"\n",
    "\n",
    "import re\n",
    "print(\"\\n\".join(re.split(regex_pattern, input())))"
   ]
  },
  {
   "cell_type": "code",
   "execution_count": 3,
   "metadata": {},
   "outputs": [
    {
     "name": "stdout",
     "output_type": "stream",
     "text": [
      "derfertser\n",
      "-1\n"
     ]
    }
   ],
   "source": [
    "#Question3\n",
    "#Group(), Groups() & Groupdict()\n",
    "import re\n",
    "\n",
    "m = re.search(r'([a-zA-Z0-9])\\1', input().strip())\n",
    "print(m.group(1) if m else -1)"
   ]
  },
  {
   "cell_type": "code",
   "execution_count": 4,
   "metadata": {},
   "outputs": [
    {
     "name": "stdout",
     "output_type": "stream",
     "text": [
      "restert\n",
      "-1\n"
     ]
    }
   ],
   "source": [
    "#question4\n",
    "#Re.findall() & Re.finditer()\n",
    "# Enter your code here. Read input from STDIN. Print output to STDOUT\n",
    "## RegExp operations (Re.findall etc)\n",
    "import re\n",
    "n = input()\n",
    "v = 'aeiou'\n",
    "c = 'qwrtypsdfghjklzxcvbnm'\n",
    "l = re.findall(r'(?<=[%s])([%s]{2,})[%s]' % (c,v,c), n, flags=re.IGNORECASE)\n",
    "if not l:\n",
    "    print(-1)\n",
    "else:\n",
    "    for a in l:\n",
    "        print(a)"
   ]
  },
  {
   "cell_type": "code",
   "execution_count": 5,
   "metadata": {},
   "outputs": [
    {
     "name": "stdout",
     "output_type": "stream",
     "text": [
      "tersaerrt\n",
      "saer\n",
      "(3, 6)\n"
     ]
    }
   ],
   "source": [
    "#question5\n",
    "#re.start&re.end\n",
    "# Enter your code here. Read input from STDIN. Print output to STDOUT\n",
    "import re\n",
    "\n",
    "s = input()\n",
    "subs = input()\n",
    "\n",
    "pattern = re.compile(subs)\n",
    "match = pattern.search(s)\n",
    "if not match: print('(-1, -1)')\n",
    "while match:\n",
    "    print('({0}, {1})'.format(match.start(), match.end() - 1))\n",
    "    match = pattern.search(s, match.start() + 1)"
   ]
  },
  {
   "cell_type": "code",
   "execution_count": 6,
   "metadata": {},
   "outputs": [
    {
     "name": "stdout",
     "output_type": "stream",
     "text": [
      "6\n",
      "3245678\n",
      "3245678\n",
      "3456789\n",
      "3456789\n",
      "gafertl\n",
      "gafertl\n",
      "fertyhet\n",
      "fertyhet\n",
      "gert\n",
      "gert\n",
      "hi\n",
      "hi\n"
     ]
    }
   ],
   "source": [
    "#question 6\n",
    "#REGEX substitution\n",
    "# Enter your code here. Read input from STDIN. Print output to STDOUT\n",
    "import re\n",
    "n=int(input())\n",
    "for i in range(n):\n",
    "    print(re.sub(r'(?<= )(&&|\\|\\|)(?= )', lambda x: 'and' if x.group() == '&&' else 'or',input()))#pattern,replacement,\n"
   ]
  },
  {
   "cell_type": "code",
   "execution_count": 7,
   "metadata": {},
   "outputs": [
    {
     "name": "stdout",
     "output_type": "stream",
     "text": [
      "XXXV\n",
      "True\n"
     ]
    }
   ],
   "source": [
    "#question7\n",
    "#Validating Roman Numerals\n",
    "digits = '(IX|IV|V?I{0,3})'\n",
    "tens = '(XC|XL|L?X{0,3})'\n",
    "hunderds = '(CM|CD|D?C{0,3})'\n",
    "thousands = 'M{0,3}'\n",
    "\n",
    "regex_pattern = r\"%s%s%s%s$\" % (thousands,hunderds,tens,digits)  # Do not delete 'r'.\n",
    "\n",
    "import re\n",
    "print(str(bool(re.match(regex_pattern, input()))))"
   ]
  },
  {
   "cell_type": "code",
   "execution_count": null,
   "metadata": {},
   "outputs": [],
   "source": [
    "#question8\n",
    "#validating phone numbers\n",
    "# Enter your code here. Read input from STDIN. Print output to STDOUT\n",
    "import re\n",
    "n=int(input())\n",
    "for i in range(n) : \n",
    "    if re.match(r'[789]\\d{9}$',input()):\n",
    "        print('YES')        \n",
    "    else :  \n",
    "        print ('NO')  "
   ]
  },
  {
   "cell_type": "code",
   "execution_count": null,
   "metadata": {},
   "outputs": [],
   "source": [
    "#question9\n",
    "#Validating and Parsing Email Addresses\n",
    "import re\n",
    "import email.utils \n",
    "n = int(input())\n",
    "pattern = r'^[a-z][\\w\\-\\.]+@[a-z]+\\.[a-z]{1,3}$'\n",
    "for i in range(0, n):\n",
    "    parsed_addr = email.utils.parseaddr(input())\n",
    "    if re.search(pattern, parsed_addr[1]):\n",
    "        print(email.utils.formataddr(parsed_addr))\n",
    "        "
   ]
  },
  {
   "cell_type": "code",
   "execution_count": null,
   "metadata": {},
   "outputs": [],
   "source": [
    "#question10\n",
    "#hex Color code\n",
    "# Enter your code here. Read input from STDIN. Print output to STDOUT\n",
    "import re\n",
    "\n",
    "for _ in range(int(input())):\n",
    "    pattern = re.findall(r':?.(#[0-9a-fA-F]{6}|#[0-9a-fA-F]{3})', input())\n",
    "    if pattern:\n",
    "        print(*pattern, sep='\\n')"
   ]
  },
  {
   "cell_type": "code",
   "execution_count": null,
   "metadata": {},
   "outputs": [],
   "source": [
    "#question11\n",
    "#HTMl PARSER-1\n",
    "# Enter your code here. Read input from STDIN. Print output to STDOUT\n",
    "from html.parser import HTMLParser\n",
    "\n",
    "n = int(input())\n",
    "class MyHTMLParser(HTMLParser): # Subclass\n",
    "    \n",
    "    def handle_starttag(self, tag, attributes):\n",
    "        print('Start :', tag)\n",
    "        for element in attributes:\n",
    "            print('->', element[0], '>', element[1])\n",
    "            \n",
    "    def handle_endtag(self, tag):\n",
    "        print('End   :', tag)\n",
    "        \n",
    "    def handle_startendtag(self, tag, attributes):\n",
    "        print('Empty :', tag)\n",
    "        for element in attributes:\n",
    "            print('->', element[0], '>', element[1])\n",
    "            \n",
    "Parser = MyHTMLParser()\n",
    "Parser.feed(''.join([input().strip() for i in range(0, n)]))"
   ]
  },
  {
   "cell_type": "code",
   "execution_count": null,
   "metadata": {},
   "outputs": [],
   "source": [
    "#question12\n",
    "#HTML parser-2\n",
    "from html.parser import HTMLParser\n",
    "\n",
    "class MyHTMLParser(HTMLParser):\n",
    "   def handle_comment(self, comment):\n",
    "        print('>>> Multi-line Comment') if (comment.find('\\n') != -1) else print('>>> Single-line Comment')\n",
    "        print(comment)\n",
    "   def handle_data(self, data):\n",
    "        if data is '\\n':\n",
    "            return\n",
    "        print('>>> Data')\n",
    "        print(data)\n",
    "            \n",
    "  \n",
    "  \n",
    "  \n",
    "  \n",
    "  \n",
    "  \n",
    "  \n",
    "  \n",
    "html = \"\"       \n",
    "for i in range(int(input())):\n",
    "    html += input().rstrip()\n",
    "    html += '\\n'\n",
    "    \n",
    "parser = MyHTMLParser()\n",
    "parser.feed(html)\n",
    "parser.close()"
   ]
  },
  {
   "cell_type": "code",
   "execution_count": null,
   "metadata": {},
   "outputs": [],
   "source": [
    "#question13\n",
    "#Detect html tags,attributes,attribute parser\n",
    "# Enter your code here. Read input from STDIN. Print output to STDOUT\n",
    "from html.parser import HTMLParser\n",
    "\n",
    "# Same approach as the HTML Parser 1 Challenge! Make a subclass and override methods\n",
    "N = int(input())\n",
    "class MyHTMLParser(HTMLParser):\n",
    "    def handle_starttag(self, tag, attributes):\n",
    "        print(tag)\n",
    "        [print('-> {} > {}'.format(*attribute)) for attribute in attributes]\n",
    "    \n",
    "html = '\\n'.join([input() for x in range(0, N)])  \n",
    "parser = MyHTMLParser()\n",
    "parser.feed(html)\n",
    "parser.close()"
   ]
  },
  {
   "cell_type": "code",
   "execution_count": 1,
   "metadata": {},
   "outputs": [
    {
     "name": "stdout",
     "output_type": "stream",
     "text": [
      "1\n",
      "795991213966\n",
      "Invalid\n"
     ]
    }
   ],
   "source": [
    "#question 14\n",
    "#validating UID\n",
    "# Enter your code here. Read input from STDIN. Print output to STDOUT\n",
    "import re\n",
    "\n",
    "for _ in range(int(input())):\n",
    "    u = ''.join(sorted(input()))\n",
    "    try:\n",
    "        assert re.search(r'[A-Z]{2}', u)\n",
    "        assert re.search(r'\\d\\d\\d', u)\n",
    "        assert not re.search(r'[^a-zA-Z0-9]', u)\n",
    "        assert not re.search(r'(.)\\1', u)\n",
    "        assert len(u) == 10\n",
    "    except:\n",
    "        print('Invalid')\n",
    "    else:\n",
    "        print('Valid')"
   ]
  },
  {
   "cell_type": "code",
   "execution_count": 2,
   "metadata": {},
   "outputs": [
    {
     "name": "stdout",
     "output_type": "stream",
     "text": [
      "1\n",
      "r345607893\n",
      "Invalid\n"
     ]
    }
   ],
   "source": [
    "#question15\n",
    "#validating credit cardnumbers\n",
    "import re\n",
    "\n",
    "for _ in range(int(input())):\n",
    "    n = input().strip()\n",
    "    try:\n",
    "        assert re.match(r'(\\d{4}-){3}\\d{4}$',n) or re.match(r'\\d{16}$',n)\n",
    "        n = re.sub(r'-','',n)\n",
    "        assert re.match(r'[456]',n)\n",
    "        assert not re.search(r'(\\d)\\1{3,}',n)\n",
    "    except:\n",
    "        print('Invalid')\n",
    "    else:\n",
    "        print('Valid')"
   ]
  },
  {
   "cell_type": "code",
   "execution_count": 3,
   "metadata": {},
   "outputs": [
    {
     "name": "stdout",
     "output_type": "stream",
     "text": [
      "1\n",
      "False\n"
     ]
    }
   ],
   "source": [
    "#question16\n",
    "#validarting postal codes\n",
    "import sys\n",
    "\n",
    "stdin = sys.stdin\n",
    "\n",
    "regex_integer_in_range = r\"_________\"\t# Do not delete 'r'.\n",
    "regex_alternating_repetitive_digit_pair = r\"_________\"\t# Do not delete 'r'.\n",
    "\n",
    "\n",
    "import re\n",
    "P = input()\n",
    "\n",
    "print (bool(re.match(regex_integer_in_range, P)) \n",
    "and len(re.findall(regex_alternating_repetitive_digit_pair, P)) < 2)"
   ]
  },
  {
   "cell_type": "code",
   "execution_count": null,
   "metadata": {},
   "outputs": [],
   "source": [
    "#question17\n",
    "#matrix script\n",
    "#!/bin/python3\n",
    "\n",
    "import math\n",
    "import os\n",
    "import random\n",
    "import re\n",
    "import sys\n",
    "\n",
    "\n",
    "\n",
    "\n",
    "first_multiple_input = input().rstrip().split()\n",
    "\n",
    "n = int(first_multiple_input[0])\n",
    "\n",
    "m = int(first_multiple_input[1])\n",
    "matrix = []\n",
    "\n",
    "b = \"\"\n",
    "\n",
    "matrix = []\n",
    "\n",
    "for _ in range(0,n):\n",
    "    matrix_item = input()\n",
    "    matrix.append(matrix_item)\n",
    "\n",
    "for z in zip(*matrix):\n",
    "    b += ''.join(z)\n",
    "    \n",
    "output = re.sub(r'(?<=\\w)([^\\w]+)(?=\\w)', \" \", b)\n",
    "print(output)"
   ]
  }
 ],
 "metadata": {
  "kernelspec": {
   "display_name": "Python 3",
   "language": "python",
   "name": "python3"
  },
  "language_info": {
   "codemirror_mode": {
    "name": "ipython",
    "version": 3
   },
   "file_extension": ".py",
   "mimetype": "text/x-python",
   "name": "python",
   "nbconvert_exporter": "python",
   "pygments_lexer": "ipython3",
   "version": "3.7.6"
  }
 },
 "nbformat": 4,
 "nbformat_minor": 4
}
